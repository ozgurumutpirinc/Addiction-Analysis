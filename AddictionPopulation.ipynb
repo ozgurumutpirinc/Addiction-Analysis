{
  "nbformat": 4,
  "nbformat_minor": 0,
  "metadata": {
    "colab": {
      "provenance": []
    },
    "kernelspec": {
      "name": "python3",
      "display_name": "Python 3"
    },
    "language_info": {
      "name": "python"
    }
  },
  "cells": [
    {
      "cell_type": "markdown",
      "source": [
        "# Importing Libraries and Dataset"
      ],
      "metadata": {
        "id": "JqSVmdXXBYyN"
      }
    },
    {
      "cell_type": "code",
      "execution_count": 121,
      "metadata": {
        "id": "lOijAZadA7oC"
      },
      "outputs": [],
      "source": [
        "import numpy as np\n",
        "import pandas as pd\n",
        "import seaborn as sns\n",
        "import matplotlib.pyplot as plt\n",
        "import warnings\n",
        "from pandas.api.types import CategoricalDtype\n",
        "warnings.filterwarnings('ignore')"
      ]
    },
    {
      "cell_type": "code",
      "source": [
        "df = pd.read_csv('addiction_population_data.csv')"
      ],
      "metadata": {
        "id": "XVXxNvthBRnm"
      },
      "execution_count": 122,
      "outputs": []
    },
    {
      "cell_type": "markdown",
      "source": [
        "# Exploratory Data Analysis"
      ],
      "metadata": {
        "id": "74UQRLF1BV_T"
      }
    },
    {
      "cell_type": "code",
      "source": [
        "df.head()"
      ],
      "metadata": {
        "colab": {
          "base_uri": "https://localhost:8080/",
          "height": 342
        },
        "id": "fB2IPKaEBVZd",
        "outputId": "0c9531d6-3289-41a4-aa3f-5f7fd33cef8e"
      },
      "execution_count": 123,
      "outputs": [
        {
          "output_type": "execute_result",
          "data": {
            "text/plain": [
              "   id              name  age  gender       country         city  \\\n",
              "0   1     Michael Bates   66   Other         Yemen  Martinmouth   \n",
              "1   2    Brian Thompson   29    Male  Saudi Arabia  Harperhaven   \n",
              "2   3     Steven Little   75    Male          Togo     Chanport   \n",
              "3   4   Michael Mathews   35   Other          Togo   North Cory   \n",
              "4   5  Nicholas Sanchez   38  Female       Morocco   Danielberg   \n",
              "\n",
              "  education_level employment_status  annual_income_usd     marital_status  \\\n",
              "0       Secondary           Student              45595            Married   \n",
              "1         Primary     Self-Employed             145842             Single   \n",
              "2    Postgraduate        Unemployed             162480             Single   \n",
              "3      University        Unemployed              16023  In a relationship   \n",
              "4         College     Self-Employed              62933  In a relationship   \n",
              "\n",
              "   ...  attempts_to_quit_smoking  attempts_to_quit_drinking  \\\n",
              "0  ...                         6                          2   \n",
              "1  ...                         1                          6   \n",
              "2  ...                         9                          9   \n",
              "3  ...                         5                          7   \n",
              "4  ...                         4                          7   \n",
              "\n",
              "   has_health_issues  mental_health_status  exercise_frequency  diet_quality  \\\n",
              "0               True                  Good               Daily       Average   \n",
              "1              False                  Poor              Weekly          Good   \n",
              "2               True                  Good               Never          Good   \n",
              "3              False               Average               Daily          Good   \n",
              "4               True                  Poor              Weekly          Good   \n",
              "\n",
              "   sleep_hours   bmi social_support therapy_history  \n",
              "0          5.6  22.4            NaN         Current  \n",
              "1          6.7  24.1       Moderate             NaN  \n",
              "2          6.2  22.2           Weak             NaN  \n",
              "3          7.2  25.5       Moderate         Current  \n",
              "4          8.5  31.2           Weak            Past  \n",
              "\n",
              "[5 rows x 25 columns]"
            ],
            "text/html": [
              "\n",
              "  <div id=\"df-cc3f80fd-c332-4a4f-a1d4-ee77e7805d9c\" class=\"colab-df-container\">\n",
              "    <div>\n",
              "<style scoped>\n",
              "    .dataframe tbody tr th:only-of-type {\n",
              "        vertical-align: middle;\n",
              "    }\n",
              "\n",
              "    .dataframe tbody tr th {\n",
              "        vertical-align: top;\n",
              "    }\n",
              "\n",
              "    .dataframe thead th {\n",
              "        text-align: right;\n",
              "    }\n",
              "</style>\n",
              "<table border=\"1\" class=\"dataframe\">\n",
              "  <thead>\n",
              "    <tr style=\"text-align: right;\">\n",
              "      <th></th>\n",
              "      <th>id</th>\n",
              "      <th>name</th>\n",
              "      <th>age</th>\n",
              "      <th>gender</th>\n",
              "      <th>country</th>\n",
              "      <th>city</th>\n",
              "      <th>education_level</th>\n",
              "      <th>employment_status</th>\n",
              "      <th>annual_income_usd</th>\n",
              "      <th>marital_status</th>\n",
              "      <th>...</th>\n",
              "      <th>attempts_to_quit_smoking</th>\n",
              "      <th>attempts_to_quit_drinking</th>\n",
              "      <th>has_health_issues</th>\n",
              "      <th>mental_health_status</th>\n",
              "      <th>exercise_frequency</th>\n",
              "      <th>diet_quality</th>\n",
              "      <th>sleep_hours</th>\n",
              "      <th>bmi</th>\n",
              "      <th>social_support</th>\n",
              "      <th>therapy_history</th>\n",
              "    </tr>\n",
              "  </thead>\n",
              "  <tbody>\n",
              "    <tr>\n",
              "      <th>0</th>\n",
              "      <td>1</td>\n",
              "      <td>Michael Bates</td>\n",
              "      <td>66</td>\n",
              "      <td>Other</td>\n",
              "      <td>Yemen</td>\n",
              "      <td>Martinmouth</td>\n",
              "      <td>Secondary</td>\n",
              "      <td>Student</td>\n",
              "      <td>45595</td>\n",
              "      <td>Married</td>\n",
              "      <td>...</td>\n",
              "      <td>6</td>\n",
              "      <td>2</td>\n",
              "      <td>True</td>\n",
              "      <td>Good</td>\n",
              "      <td>Daily</td>\n",
              "      <td>Average</td>\n",
              "      <td>5.6</td>\n",
              "      <td>22.4</td>\n",
              "      <td>NaN</td>\n",
              "      <td>Current</td>\n",
              "    </tr>\n",
              "    <tr>\n",
              "      <th>1</th>\n",
              "      <td>2</td>\n",
              "      <td>Brian Thompson</td>\n",
              "      <td>29</td>\n",
              "      <td>Male</td>\n",
              "      <td>Saudi Arabia</td>\n",
              "      <td>Harperhaven</td>\n",
              "      <td>Primary</td>\n",
              "      <td>Self-Employed</td>\n",
              "      <td>145842</td>\n",
              "      <td>Single</td>\n",
              "      <td>...</td>\n",
              "      <td>1</td>\n",
              "      <td>6</td>\n",
              "      <td>False</td>\n",
              "      <td>Poor</td>\n",
              "      <td>Weekly</td>\n",
              "      <td>Good</td>\n",
              "      <td>6.7</td>\n",
              "      <td>24.1</td>\n",
              "      <td>Moderate</td>\n",
              "      <td>NaN</td>\n",
              "    </tr>\n",
              "    <tr>\n",
              "      <th>2</th>\n",
              "      <td>3</td>\n",
              "      <td>Steven Little</td>\n",
              "      <td>75</td>\n",
              "      <td>Male</td>\n",
              "      <td>Togo</td>\n",
              "      <td>Chanport</td>\n",
              "      <td>Postgraduate</td>\n",
              "      <td>Unemployed</td>\n",
              "      <td>162480</td>\n",
              "      <td>Single</td>\n",
              "      <td>...</td>\n",
              "      <td>9</td>\n",
              "      <td>9</td>\n",
              "      <td>True</td>\n",
              "      <td>Good</td>\n",
              "      <td>Never</td>\n",
              "      <td>Good</td>\n",
              "      <td>6.2</td>\n",
              "      <td>22.2</td>\n",
              "      <td>Weak</td>\n",
              "      <td>NaN</td>\n",
              "    </tr>\n",
              "    <tr>\n",
              "      <th>3</th>\n",
              "      <td>4</td>\n",
              "      <td>Michael Mathews</td>\n",
              "      <td>35</td>\n",
              "      <td>Other</td>\n",
              "      <td>Togo</td>\n",
              "      <td>North Cory</td>\n",
              "      <td>University</td>\n",
              "      <td>Unemployed</td>\n",
              "      <td>16023</td>\n",
              "      <td>In a relationship</td>\n",
              "      <td>...</td>\n",
              "      <td>5</td>\n",
              "      <td>7</td>\n",
              "      <td>False</td>\n",
              "      <td>Average</td>\n",
              "      <td>Daily</td>\n",
              "      <td>Good</td>\n",
              "      <td>7.2</td>\n",
              "      <td>25.5</td>\n",
              "      <td>Moderate</td>\n",
              "      <td>Current</td>\n",
              "    </tr>\n",
              "    <tr>\n",
              "      <th>4</th>\n",
              "      <td>5</td>\n",
              "      <td>Nicholas Sanchez</td>\n",
              "      <td>38</td>\n",
              "      <td>Female</td>\n",
              "      <td>Morocco</td>\n",
              "      <td>Danielberg</td>\n",
              "      <td>College</td>\n",
              "      <td>Self-Employed</td>\n",
              "      <td>62933</td>\n",
              "      <td>In a relationship</td>\n",
              "      <td>...</td>\n",
              "      <td>4</td>\n",
              "      <td>7</td>\n",
              "      <td>True</td>\n",
              "      <td>Poor</td>\n",
              "      <td>Weekly</td>\n",
              "      <td>Good</td>\n",
              "      <td>8.5</td>\n",
              "      <td>31.2</td>\n",
              "      <td>Weak</td>\n",
              "      <td>Past</td>\n",
              "    </tr>\n",
              "  </tbody>\n",
              "</table>\n",
              "<p>5 rows × 25 columns</p>\n",
              "</div>\n",
              "    <div class=\"colab-df-buttons\">\n",
              "\n",
              "  <div class=\"colab-df-container\">\n",
              "    <button class=\"colab-df-convert\" onclick=\"convertToInteractive('df-cc3f80fd-c332-4a4f-a1d4-ee77e7805d9c')\"\n",
              "            title=\"Convert this dataframe to an interactive table.\"\n",
              "            style=\"display:none;\">\n",
              "\n",
              "  <svg xmlns=\"http://www.w3.org/2000/svg\" height=\"24px\" viewBox=\"0 -960 960 960\">\n",
              "    <path d=\"M120-120v-720h720v720H120Zm60-500h600v-160H180v160Zm220 220h160v-160H400v160Zm0 220h160v-160H400v160ZM180-400h160v-160H180v160Zm440 0h160v-160H620v160ZM180-180h160v-160H180v160Zm440 0h160v-160H620v160Z\"/>\n",
              "  </svg>\n",
              "    </button>\n",
              "\n",
              "  <style>\n",
              "    .colab-df-container {\n",
              "      display:flex;\n",
              "      gap: 12px;\n",
              "    }\n",
              "\n",
              "    .colab-df-convert {\n",
              "      background-color: #E8F0FE;\n",
              "      border: none;\n",
              "      border-radius: 50%;\n",
              "      cursor: pointer;\n",
              "      display: none;\n",
              "      fill: #1967D2;\n",
              "      height: 32px;\n",
              "      padding: 0 0 0 0;\n",
              "      width: 32px;\n",
              "    }\n",
              "\n",
              "    .colab-df-convert:hover {\n",
              "      background-color: #E2EBFA;\n",
              "      box-shadow: 0px 1px 2px rgba(60, 64, 67, 0.3), 0px 1px 3px 1px rgba(60, 64, 67, 0.15);\n",
              "      fill: #174EA6;\n",
              "    }\n",
              "\n",
              "    .colab-df-buttons div {\n",
              "      margin-bottom: 4px;\n",
              "    }\n",
              "\n",
              "    [theme=dark] .colab-df-convert {\n",
              "      background-color: #3B4455;\n",
              "      fill: #D2E3FC;\n",
              "    }\n",
              "\n",
              "    [theme=dark] .colab-df-convert:hover {\n",
              "      background-color: #434B5C;\n",
              "      box-shadow: 0px 1px 3px 1px rgba(0, 0, 0, 0.15);\n",
              "      filter: drop-shadow(0px 1px 2px rgba(0, 0, 0, 0.3));\n",
              "      fill: #FFFFFF;\n",
              "    }\n",
              "  </style>\n",
              "\n",
              "    <script>\n",
              "      const buttonEl =\n",
              "        document.querySelector('#df-cc3f80fd-c332-4a4f-a1d4-ee77e7805d9c button.colab-df-convert');\n",
              "      buttonEl.style.display =\n",
              "        google.colab.kernel.accessAllowed ? 'block' : 'none';\n",
              "\n",
              "      async function convertToInteractive(key) {\n",
              "        const element = document.querySelector('#df-cc3f80fd-c332-4a4f-a1d4-ee77e7805d9c');\n",
              "        const dataTable =\n",
              "          await google.colab.kernel.invokeFunction('convertToInteractive',\n",
              "                                                    [key], {});\n",
              "        if (!dataTable) return;\n",
              "\n",
              "        const docLinkHtml = 'Like what you see? Visit the ' +\n",
              "          '<a target=\"_blank\" href=https://colab.research.google.com/notebooks/data_table.ipynb>data table notebook</a>'\n",
              "          + ' to learn more about interactive tables.';\n",
              "        element.innerHTML = '';\n",
              "        dataTable['output_type'] = 'display_data';\n",
              "        await google.colab.output.renderOutput(dataTable, element);\n",
              "        const docLink = document.createElement('div');\n",
              "        docLink.innerHTML = docLinkHtml;\n",
              "        element.appendChild(docLink);\n",
              "      }\n",
              "    </script>\n",
              "  </div>\n",
              "\n",
              "\n",
              "    <div id=\"df-5fc60304-4a9a-4d12-b994-fdc73906ba87\">\n",
              "      <button class=\"colab-df-quickchart\" onclick=\"quickchart('df-5fc60304-4a9a-4d12-b994-fdc73906ba87')\"\n",
              "                title=\"Suggest charts\"\n",
              "                style=\"display:none;\">\n",
              "\n",
              "<svg xmlns=\"http://www.w3.org/2000/svg\" height=\"24px\"viewBox=\"0 0 24 24\"\n",
              "     width=\"24px\">\n",
              "    <g>\n",
              "        <path d=\"M19 3H5c-1.1 0-2 .9-2 2v14c0 1.1.9 2 2 2h14c1.1 0 2-.9 2-2V5c0-1.1-.9-2-2-2zM9 17H7v-7h2v7zm4 0h-2V7h2v10zm4 0h-2v-4h2v4z\"/>\n",
              "    </g>\n",
              "</svg>\n",
              "      </button>\n",
              "\n",
              "<style>\n",
              "  .colab-df-quickchart {\n",
              "      --bg-color: #E8F0FE;\n",
              "      --fill-color: #1967D2;\n",
              "      --hover-bg-color: #E2EBFA;\n",
              "      --hover-fill-color: #174EA6;\n",
              "      --disabled-fill-color: #AAA;\n",
              "      --disabled-bg-color: #DDD;\n",
              "  }\n",
              "\n",
              "  [theme=dark] .colab-df-quickchart {\n",
              "      --bg-color: #3B4455;\n",
              "      --fill-color: #D2E3FC;\n",
              "      --hover-bg-color: #434B5C;\n",
              "      --hover-fill-color: #FFFFFF;\n",
              "      --disabled-bg-color: #3B4455;\n",
              "      --disabled-fill-color: #666;\n",
              "  }\n",
              "\n",
              "  .colab-df-quickchart {\n",
              "    background-color: var(--bg-color);\n",
              "    border: none;\n",
              "    border-radius: 50%;\n",
              "    cursor: pointer;\n",
              "    display: none;\n",
              "    fill: var(--fill-color);\n",
              "    height: 32px;\n",
              "    padding: 0;\n",
              "    width: 32px;\n",
              "  }\n",
              "\n",
              "  .colab-df-quickchart:hover {\n",
              "    background-color: var(--hover-bg-color);\n",
              "    box-shadow: 0 1px 2px rgba(60, 64, 67, 0.3), 0 1px 3px 1px rgba(60, 64, 67, 0.15);\n",
              "    fill: var(--button-hover-fill-color);\n",
              "  }\n",
              "\n",
              "  .colab-df-quickchart-complete:disabled,\n",
              "  .colab-df-quickchart-complete:disabled:hover {\n",
              "    background-color: var(--disabled-bg-color);\n",
              "    fill: var(--disabled-fill-color);\n",
              "    box-shadow: none;\n",
              "  }\n",
              "\n",
              "  .colab-df-spinner {\n",
              "    border: 2px solid var(--fill-color);\n",
              "    border-color: transparent;\n",
              "    border-bottom-color: var(--fill-color);\n",
              "    animation:\n",
              "      spin 1s steps(1) infinite;\n",
              "  }\n",
              "\n",
              "  @keyframes spin {\n",
              "    0% {\n",
              "      border-color: transparent;\n",
              "      border-bottom-color: var(--fill-color);\n",
              "      border-left-color: var(--fill-color);\n",
              "    }\n",
              "    20% {\n",
              "      border-color: transparent;\n",
              "      border-left-color: var(--fill-color);\n",
              "      border-top-color: var(--fill-color);\n",
              "    }\n",
              "    30% {\n",
              "      border-color: transparent;\n",
              "      border-left-color: var(--fill-color);\n",
              "      border-top-color: var(--fill-color);\n",
              "      border-right-color: var(--fill-color);\n",
              "    }\n",
              "    40% {\n",
              "      border-color: transparent;\n",
              "      border-right-color: var(--fill-color);\n",
              "      border-top-color: var(--fill-color);\n",
              "    }\n",
              "    60% {\n",
              "      border-color: transparent;\n",
              "      border-right-color: var(--fill-color);\n",
              "    }\n",
              "    80% {\n",
              "      border-color: transparent;\n",
              "      border-right-color: var(--fill-color);\n",
              "      border-bottom-color: var(--fill-color);\n",
              "    }\n",
              "    90% {\n",
              "      border-color: transparent;\n",
              "      border-bottom-color: var(--fill-color);\n",
              "    }\n",
              "  }\n",
              "</style>\n",
              "\n",
              "      <script>\n",
              "        async function quickchart(key) {\n",
              "          const quickchartButtonEl =\n",
              "            document.querySelector('#' + key + ' button');\n",
              "          quickchartButtonEl.disabled = true;  // To prevent multiple clicks.\n",
              "          quickchartButtonEl.classList.add('colab-df-spinner');\n",
              "          try {\n",
              "            const charts = await google.colab.kernel.invokeFunction(\n",
              "                'suggestCharts', [key], {});\n",
              "          } catch (error) {\n",
              "            console.error('Error during call to suggestCharts:', error);\n",
              "          }\n",
              "          quickchartButtonEl.classList.remove('colab-df-spinner');\n",
              "          quickchartButtonEl.classList.add('colab-df-quickchart-complete');\n",
              "        }\n",
              "        (() => {\n",
              "          let quickchartButtonEl =\n",
              "            document.querySelector('#df-5fc60304-4a9a-4d12-b994-fdc73906ba87 button');\n",
              "          quickchartButtonEl.style.display =\n",
              "            google.colab.kernel.accessAllowed ? 'block' : 'none';\n",
              "        })();\n",
              "      </script>\n",
              "    </div>\n",
              "\n",
              "    </div>\n",
              "  </div>\n"
            ],
            "application/vnd.google.colaboratory.intrinsic+json": {
              "type": "dataframe",
              "variable_name": "df"
            }
          },
          "metadata": {},
          "execution_count": 123
        }
      ]
    },
    {
      "cell_type": "code",
      "source": [
        "df.info()"
      ],
      "metadata": {
        "colab": {
          "base_uri": "https://localhost:8080/"
        },
        "id": "SqVllPfjBeEd",
        "outputId": "5bc86112-fc57-4686-c6ec-e9c7834ce0af"
      },
      "execution_count": 124,
      "outputs": [
        {
          "output_type": "stream",
          "name": "stdout",
          "text": [
            "<class 'pandas.core.frame.DataFrame'>\n",
            "RangeIndex: 3000 entries, 0 to 2999\n",
            "Data columns (total 25 columns):\n",
            " #   Column                     Non-Null Count  Dtype  \n",
            "---  ------                     --------------  -----  \n",
            " 0   id                         3000 non-null   int64  \n",
            " 1   name                       3000 non-null   object \n",
            " 2   age                        3000 non-null   int64  \n",
            " 3   gender                     3000 non-null   object \n",
            " 4   country                    3000 non-null   object \n",
            " 5   city                       3000 non-null   object \n",
            " 6   education_level            2580 non-null   object \n",
            " 7   employment_status          3000 non-null   object \n",
            " 8   annual_income_usd          3000 non-null   int64  \n",
            " 9   marital_status             3000 non-null   object \n",
            " 10  children_count             3000 non-null   int64  \n",
            " 11  smokes_per_day             3000 non-null   int64  \n",
            " 12  drinks_per_week            3000 non-null   int64  \n",
            " 13  age_started_smoking        3000 non-null   int64  \n",
            " 14  age_started_drinking       3000 non-null   int64  \n",
            " 15  attempts_to_quit_smoking   3000 non-null   int64  \n",
            " 16  attempts_to_quit_drinking  3000 non-null   int64  \n",
            " 17  has_health_issues          3000 non-null   bool   \n",
            " 18  mental_health_status       3000 non-null   object \n",
            " 19  exercise_frequency         3000 non-null   object \n",
            " 20  diet_quality               3000 non-null   object \n",
            " 21  sleep_hours                3000 non-null   float64\n",
            " 22  bmi                        3000 non-null   float64\n",
            " 23  social_support             2247 non-null   object \n",
            " 24  therapy_history            1986 non-null   object \n",
            "dtypes: bool(1), float64(2), int64(10), object(12)\n",
            "memory usage: 565.6+ KB\n"
          ]
        }
      ]
    },
    {
      "cell_type": "code",
      "source": [
        "df.shape"
      ],
      "metadata": {
        "colab": {
          "base_uri": "https://localhost:8080/"
        },
        "id": "IM8fzeRWBfQp",
        "outputId": "412299dc-e0b4-40aa-b9f7-a88fe6cb1060"
      },
      "execution_count": 125,
      "outputs": [
        {
          "output_type": "execute_result",
          "data": {
            "text/plain": [
              "(3000, 25)"
            ]
          },
          "metadata": {},
          "execution_count": 125
        }
      ]
    },
    {
      "cell_type": "code",
      "source": [
        "df.describe().T"
      ],
      "metadata": {
        "colab": {
          "base_uri": "https://localhost:8080/",
          "height": 425
        },
        "id": "0N7jc6p9LMTS",
        "outputId": "d28625f8-5093-436d-8b9d-a4cae4d6352d"
      },
      "execution_count": 126,
      "outputs": [
        {
          "output_type": "execute_result",
          "data": {
            "text/plain": [
              "                            count          mean           std    min  \\\n",
              "id                         3000.0   1500.500000    866.169729    1.0   \n",
              "age                        3000.0     46.654333     18.740880   15.0   \n",
              "annual_income_usd          3000.0  98904.178000  57288.035963  560.0   \n",
              "children_count             3000.0      2.453667      1.704354    0.0   \n",
              "smokes_per_day             3000.0     10.034000      3.108386    2.0   \n",
              "drinks_per_week            3000.0      5.002333      2.214037    0.0   \n",
              "age_started_smoking        3000.0     24.365667      8.707309   10.0   \n",
              "age_started_drinking       3000.0     24.525333      8.679121   10.0   \n",
              "attempts_to_quit_smoking   3000.0      4.440333      2.835334    0.0   \n",
              "attempts_to_quit_drinking  3000.0      4.542000      2.866992    0.0   \n",
              "sleep_hours                3000.0      6.470400      1.495878    1.5   \n",
              "bmi                        3000.0     25.170133      5.013345    9.1   \n",
              "\n",
              "                                 25%      50%        75%       max  \n",
              "id                           750.750   1500.5    2250.25    3000.0  \n",
              "age                           31.000     47.0      63.00      79.0  \n",
              "annual_income_usd          49336.000  98616.5  148622.75  199951.0  \n",
              "children_count                 1.000      2.0       4.00       5.0  \n",
              "smokes_per_day                 8.000     10.0      12.00      21.0  \n",
              "drinks_per_week                3.000      5.0       6.00      14.0  \n",
              "age_started_smoking           17.000     24.0      32.00      39.0  \n",
              "age_started_drinking          17.000     25.0      32.00      39.0  \n",
              "attempts_to_quit_smoking       2.000      4.0       7.00       9.0  \n",
              "attempts_to_quit_drinking      2.000      5.0       7.00       9.0  \n",
              "sleep_hours                    5.475      6.5       7.50      12.6  \n",
              "bmi                           21.900     25.2      28.40      43.9  "
            ],
            "text/html": [
              "\n",
              "  <div id=\"df-440f9a34-21db-4074-948d-e70a3aebba9e\" class=\"colab-df-container\">\n",
              "    <div>\n",
              "<style scoped>\n",
              "    .dataframe tbody tr th:only-of-type {\n",
              "        vertical-align: middle;\n",
              "    }\n",
              "\n",
              "    .dataframe tbody tr th {\n",
              "        vertical-align: top;\n",
              "    }\n",
              "\n",
              "    .dataframe thead th {\n",
              "        text-align: right;\n",
              "    }\n",
              "</style>\n",
              "<table border=\"1\" class=\"dataframe\">\n",
              "  <thead>\n",
              "    <tr style=\"text-align: right;\">\n",
              "      <th></th>\n",
              "      <th>count</th>\n",
              "      <th>mean</th>\n",
              "      <th>std</th>\n",
              "      <th>min</th>\n",
              "      <th>25%</th>\n",
              "      <th>50%</th>\n",
              "      <th>75%</th>\n",
              "      <th>max</th>\n",
              "    </tr>\n",
              "  </thead>\n",
              "  <tbody>\n",
              "    <tr>\n",
              "      <th>id</th>\n",
              "      <td>3000.0</td>\n",
              "      <td>1500.500000</td>\n",
              "      <td>866.169729</td>\n",
              "      <td>1.0</td>\n",
              "      <td>750.750</td>\n",
              "      <td>1500.5</td>\n",
              "      <td>2250.25</td>\n",
              "      <td>3000.0</td>\n",
              "    </tr>\n",
              "    <tr>\n",
              "      <th>age</th>\n",
              "      <td>3000.0</td>\n",
              "      <td>46.654333</td>\n",
              "      <td>18.740880</td>\n",
              "      <td>15.0</td>\n",
              "      <td>31.000</td>\n",
              "      <td>47.0</td>\n",
              "      <td>63.00</td>\n",
              "      <td>79.0</td>\n",
              "    </tr>\n",
              "    <tr>\n",
              "      <th>annual_income_usd</th>\n",
              "      <td>3000.0</td>\n",
              "      <td>98904.178000</td>\n",
              "      <td>57288.035963</td>\n",
              "      <td>560.0</td>\n",
              "      <td>49336.000</td>\n",
              "      <td>98616.5</td>\n",
              "      <td>148622.75</td>\n",
              "      <td>199951.0</td>\n",
              "    </tr>\n",
              "    <tr>\n",
              "      <th>children_count</th>\n",
              "      <td>3000.0</td>\n",
              "      <td>2.453667</td>\n",
              "      <td>1.704354</td>\n",
              "      <td>0.0</td>\n",
              "      <td>1.000</td>\n",
              "      <td>2.0</td>\n",
              "      <td>4.00</td>\n",
              "      <td>5.0</td>\n",
              "    </tr>\n",
              "    <tr>\n",
              "      <th>smokes_per_day</th>\n",
              "      <td>3000.0</td>\n",
              "      <td>10.034000</td>\n",
              "      <td>3.108386</td>\n",
              "      <td>2.0</td>\n",
              "      <td>8.000</td>\n",
              "      <td>10.0</td>\n",
              "      <td>12.00</td>\n",
              "      <td>21.0</td>\n",
              "    </tr>\n",
              "    <tr>\n",
              "      <th>drinks_per_week</th>\n",
              "      <td>3000.0</td>\n",
              "      <td>5.002333</td>\n",
              "      <td>2.214037</td>\n",
              "      <td>0.0</td>\n",
              "      <td>3.000</td>\n",
              "      <td>5.0</td>\n",
              "      <td>6.00</td>\n",
              "      <td>14.0</td>\n",
              "    </tr>\n",
              "    <tr>\n",
              "      <th>age_started_smoking</th>\n",
              "      <td>3000.0</td>\n",
              "      <td>24.365667</td>\n",
              "      <td>8.707309</td>\n",
              "      <td>10.0</td>\n",
              "      <td>17.000</td>\n",
              "      <td>24.0</td>\n",
              "      <td>32.00</td>\n",
              "      <td>39.0</td>\n",
              "    </tr>\n",
              "    <tr>\n",
              "      <th>age_started_drinking</th>\n",
              "      <td>3000.0</td>\n",
              "      <td>24.525333</td>\n",
              "      <td>8.679121</td>\n",
              "      <td>10.0</td>\n",
              "      <td>17.000</td>\n",
              "      <td>25.0</td>\n",
              "      <td>32.00</td>\n",
              "      <td>39.0</td>\n",
              "    </tr>\n",
              "    <tr>\n",
              "      <th>attempts_to_quit_smoking</th>\n",
              "      <td>3000.0</td>\n",
              "      <td>4.440333</td>\n",
              "      <td>2.835334</td>\n",
              "      <td>0.0</td>\n",
              "      <td>2.000</td>\n",
              "      <td>4.0</td>\n",
              "      <td>7.00</td>\n",
              "      <td>9.0</td>\n",
              "    </tr>\n",
              "    <tr>\n",
              "      <th>attempts_to_quit_drinking</th>\n",
              "      <td>3000.0</td>\n",
              "      <td>4.542000</td>\n",
              "      <td>2.866992</td>\n",
              "      <td>0.0</td>\n",
              "      <td>2.000</td>\n",
              "      <td>5.0</td>\n",
              "      <td>7.00</td>\n",
              "      <td>9.0</td>\n",
              "    </tr>\n",
              "    <tr>\n",
              "      <th>sleep_hours</th>\n",
              "      <td>3000.0</td>\n",
              "      <td>6.470400</td>\n",
              "      <td>1.495878</td>\n",
              "      <td>1.5</td>\n",
              "      <td>5.475</td>\n",
              "      <td>6.5</td>\n",
              "      <td>7.50</td>\n",
              "      <td>12.6</td>\n",
              "    </tr>\n",
              "    <tr>\n",
              "      <th>bmi</th>\n",
              "      <td>3000.0</td>\n",
              "      <td>25.170133</td>\n",
              "      <td>5.013345</td>\n",
              "      <td>9.1</td>\n",
              "      <td>21.900</td>\n",
              "      <td>25.2</td>\n",
              "      <td>28.40</td>\n",
              "      <td>43.9</td>\n",
              "    </tr>\n",
              "  </tbody>\n",
              "</table>\n",
              "</div>\n",
              "    <div class=\"colab-df-buttons\">\n",
              "\n",
              "  <div class=\"colab-df-container\">\n",
              "    <button class=\"colab-df-convert\" onclick=\"convertToInteractive('df-440f9a34-21db-4074-948d-e70a3aebba9e')\"\n",
              "            title=\"Convert this dataframe to an interactive table.\"\n",
              "            style=\"display:none;\">\n",
              "\n",
              "  <svg xmlns=\"http://www.w3.org/2000/svg\" height=\"24px\" viewBox=\"0 -960 960 960\">\n",
              "    <path d=\"M120-120v-720h720v720H120Zm60-500h600v-160H180v160Zm220 220h160v-160H400v160Zm0 220h160v-160H400v160ZM180-400h160v-160H180v160Zm440 0h160v-160H620v160ZM180-180h160v-160H180v160Zm440 0h160v-160H620v160Z\"/>\n",
              "  </svg>\n",
              "    </button>\n",
              "\n",
              "  <style>\n",
              "    .colab-df-container {\n",
              "      display:flex;\n",
              "      gap: 12px;\n",
              "    }\n",
              "\n",
              "    .colab-df-convert {\n",
              "      background-color: #E8F0FE;\n",
              "      border: none;\n",
              "      border-radius: 50%;\n",
              "      cursor: pointer;\n",
              "      display: none;\n",
              "      fill: #1967D2;\n",
              "      height: 32px;\n",
              "      padding: 0 0 0 0;\n",
              "      width: 32px;\n",
              "    }\n",
              "\n",
              "    .colab-df-convert:hover {\n",
              "      background-color: #E2EBFA;\n",
              "      box-shadow: 0px 1px 2px rgba(60, 64, 67, 0.3), 0px 1px 3px 1px rgba(60, 64, 67, 0.15);\n",
              "      fill: #174EA6;\n",
              "    }\n",
              "\n",
              "    .colab-df-buttons div {\n",
              "      margin-bottom: 4px;\n",
              "    }\n",
              "\n",
              "    [theme=dark] .colab-df-convert {\n",
              "      background-color: #3B4455;\n",
              "      fill: #D2E3FC;\n",
              "    }\n",
              "\n",
              "    [theme=dark] .colab-df-convert:hover {\n",
              "      background-color: #434B5C;\n",
              "      box-shadow: 0px 1px 3px 1px rgba(0, 0, 0, 0.15);\n",
              "      filter: drop-shadow(0px 1px 2px rgba(0, 0, 0, 0.3));\n",
              "      fill: #FFFFFF;\n",
              "    }\n",
              "  </style>\n",
              "\n",
              "    <script>\n",
              "      const buttonEl =\n",
              "        document.querySelector('#df-440f9a34-21db-4074-948d-e70a3aebba9e button.colab-df-convert');\n",
              "      buttonEl.style.display =\n",
              "        google.colab.kernel.accessAllowed ? 'block' : 'none';\n",
              "\n",
              "      async function convertToInteractive(key) {\n",
              "        const element = document.querySelector('#df-440f9a34-21db-4074-948d-e70a3aebba9e');\n",
              "        const dataTable =\n",
              "          await google.colab.kernel.invokeFunction('convertToInteractive',\n",
              "                                                    [key], {});\n",
              "        if (!dataTable) return;\n",
              "\n",
              "        const docLinkHtml = 'Like what you see? Visit the ' +\n",
              "          '<a target=\"_blank\" href=https://colab.research.google.com/notebooks/data_table.ipynb>data table notebook</a>'\n",
              "          + ' to learn more about interactive tables.';\n",
              "        element.innerHTML = '';\n",
              "        dataTable['output_type'] = 'display_data';\n",
              "        await google.colab.output.renderOutput(dataTable, element);\n",
              "        const docLink = document.createElement('div');\n",
              "        docLink.innerHTML = docLinkHtml;\n",
              "        element.appendChild(docLink);\n",
              "      }\n",
              "    </script>\n",
              "  </div>\n",
              "\n",
              "\n",
              "    <div id=\"df-102fc03a-b3c6-4168-a7f0-d899f382f737\">\n",
              "      <button class=\"colab-df-quickchart\" onclick=\"quickchart('df-102fc03a-b3c6-4168-a7f0-d899f382f737')\"\n",
              "                title=\"Suggest charts\"\n",
              "                style=\"display:none;\">\n",
              "\n",
              "<svg xmlns=\"http://www.w3.org/2000/svg\" height=\"24px\"viewBox=\"0 0 24 24\"\n",
              "     width=\"24px\">\n",
              "    <g>\n",
              "        <path d=\"M19 3H5c-1.1 0-2 .9-2 2v14c0 1.1.9 2 2 2h14c1.1 0 2-.9 2-2V5c0-1.1-.9-2-2-2zM9 17H7v-7h2v7zm4 0h-2V7h2v10zm4 0h-2v-4h2v4z\"/>\n",
              "    </g>\n",
              "</svg>\n",
              "      </button>\n",
              "\n",
              "<style>\n",
              "  .colab-df-quickchart {\n",
              "      --bg-color: #E8F0FE;\n",
              "      --fill-color: #1967D2;\n",
              "      --hover-bg-color: #E2EBFA;\n",
              "      --hover-fill-color: #174EA6;\n",
              "      --disabled-fill-color: #AAA;\n",
              "      --disabled-bg-color: #DDD;\n",
              "  }\n",
              "\n",
              "  [theme=dark] .colab-df-quickchart {\n",
              "      --bg-color: #3B4455;\n",
              "      --fill-color: #D2E3FC;\n",
              "      --hover-bg-color: #434B5C;\n",
              "      --hover-fill-color: #FFFFFF;\n",
              "      --disabled-bg-color: #3B4455;\n",
              "      --disabled-fill-color: #666;\n",
              "  }\n",
              "\n",
              "  .colab-df-quickchart {\n",
              "    background-color: var(--bg-color);\n",
              "    border: none;\n",
              "    border-radius: 50%;\n",
              "    cursor: pointer;\n",
              "    display: none;\n",
              "    fill: var(--fill-color);\n",
              "    height: 32px;\n",
              "    padding: 0;\n",
              "    width: 32px;\n",
              "  }\n",
              "\n",
              "  .colab-df-quickchart:hover {\n",
              "    background-color: var(--hover-bg-color);\n",
              "    box-shadow: 0 1px 2px rgba(60, 64, 67, 0.3), 0 1px 3px 1px rgba(60, 64, 67, 0.15);\n",
              "    fill: var(--button-hover-fill-color);\n",
              "  }\n",
              "\n",
              "  .colab-df-quickchart-complete:disabled,\n",
              "  .colab-df-quickchart-complete:disabled:hover {\n",
              "    background-color: var(--disabled-bg-color);\n",
              "    fill: var(--disabled-fill-color);\n",
              "    box-shadow: none;\n",
              "  }\n",
              "\n",
              "  .colab-df-spinner {\n",
              "    border: 2px solid var(--fill-color);\n",
              "    border-color: transparent;\n",
              "    border-bottom-color: var(--fill-color);\n",
              "    animation:\n",
              "      spin 1s steps(1) infinite;\n",
              "  }\n",
              "\n",
              "  @keyframes spin {\n",
              "    0% {\n",
              "      border-color: transparent;\n",
              "      border-bottom-color: var(--fill-color);\n",
              "      border-left-color: var(--fill-color);\n",
              "    }\n",
              "    20% {\n",
              "      border-color: transparent;\n",
              "      border-left-color: var(--fill-color);\n",
              "      border-top-color: var(--fill-color);\n",
              "    }\n",
              "    30% {\n",
              "      border-color: transparent;\n",
              "      border-left-color: var(--fill-color);\n",
              "      border-top-color: var(--fill-color);\n",
              "      border-right-color: var(--fill-color);\n",
              "    }\n",
              "    40% {\n",
              "      border-color: transparent;\n",
              "      border-right-color: var(--fill-color);\n",
              "      border-top-color: var(--fill-color);\n",
              "    }\n",
              "    60% {\n",
              "      border-color: transparent;\n",
              "      border-right-color: var(--fill-color);\n",
              "    }\n",
              "    80% {\n",
              "      border-color: transparent;\n",
              "      border-right-color: var(--fill-color);\n",
              "      border-bottom-color: var(--fill-color);\n",
              "    }\n",
              "    90% {\n",
              "      border-color: transparent;\n",
              "      border-bottom-color: var(--fill-color);\n",
              "    }\n",
              "  }\n",
              "</style>\n",
              "\n",
              "      <script>\n",
              "        async function quickchart(key) {\n",
              "          const quickchartButtonEl =\n",
              "            document.querySelector('#' + key + ' button');\n",
              "          quickchartButtonEl.disabled = true;  // To prevent multiple clicks.\n",
              "          quickchartButtonEl.classList.add('colab-df-spinner');\n",
              "          try {\n",
              "            const charts = await google.colab.kernel.invokeFunction(\n",
              "                'suggestCharts', [key], {});\n",
              "          } catch (error) {\n",
              "            console.error('Error during call to suggestCharts:', error);\n",
              "          }\n",
              "          quickchartButtonEl.classList.remove('colab-df-spinner');\n",
              "          quickchartButtonEl.classList.add('colab-df-quickchart-complete');\n",
              "        }\n",
              "        (() => {\n",
              "          let quickchartButtonEl =\n",
              "            document.querySelector('#df-102fc03a-b3c6-4168-a7f0-d899f382f737 button');\n",
              "          quickchartButtonEl.style.display =\n",
              "            google.colab.kernel.accessAllowed ? 'block' : 'none';\n",
              "        })();\n",
              "      </script>\n",
              "    </div>\n",
              "\n",
              "    </div>\n",
              "  </div>\n"
            ],
            "application/vnd.google.colaboratory.intrinsic+json": {
              "type": "dataframe",
              "summary": "{\n  \"name\": \"df\",\n  \"rows\": 12,\n  \"fields\": [\n    {\n      \"column\": \"count\",\n      \"properties\": {\n        \"dtype\": \"number\",\n        \"std\": 0.0,\n        \"min\": 3000.0,\n        \"max\": 3000.0,\n        \"num_unique_values\": 1,\n        \"samples\": [\n          3000.0\n        ],\n        \"semantic_type\": \"\",\n        \"description\": \"\"\n      }\n    },\n    {\n      \"column\": \"mean\",\n      \"properties\": {\n        \"dtype\": \"number\",\n        \"std\": 28510.966359759135,\n        \"min\": 2.453666666666667,\n        \"max\": 98904.178,\n        \"num_unique_values\": 12,\n        \"samples\": [\n          6.470400000000001\n        ],\n        \"semantic_type\": \"\",\n        \"description\": \"\"\n      }\n    },\n    {\n      \"column\": \"std\",\n      \"properties\": {\n        \"dtype\": \"number\",\n        \"std\": 16515.301523350543,\n        \"min\": 1.4958775762879428,\n        \"max\": 57288.03596333622,\n        \"num_unique_values\": 12,\n        \"samples\": [\n          1.4958775762879428\n        ],\n        \"semantic_type\": \"\",\n        \"description\": \"\"\n      }\n    },\n    {\n      \"column\": \"min\",\n      \"properties\": {\n        \"dtype\": \"number\",\n        \"std\": 160.46775282582385,\n        \"min\": 0.0,\n        \"max\": 560.0,\n        \"num_unique_values\": 8,\n        \"samples\": [\n          15.0\n        ],\n        \"semantic_type\": \"\",\n        \"description\": \"\"\n      }\n    },\n    {\n      \"column\": \"25%\",\n      \"properties\": {\n        \"dtype\": \"number\",\n        \"std\": 14221.124186269597,\n        \"min\": 1.0,\n        \"max\": 49336.0,\n        \"num_unique_values\": 10,\n        \"samples\": [\n          5.475\n        ],\n        \"semantic_type\": \"\",\n        \"description\": \"\"\n      }\n    },\n    {\n      \"column\": \"50%\",\n      \"properties\": {\n        \"dtype\": \"number\",\n        \"std\": 28427.929165857564,\n        \"min\": 2.0,\n        \"max\": 98616.5,\n        \"num_unique_values\": 11,\n        \"samples\": [\n          5.0\n        ],\n        \"semantic_type\": \"\",\n        \"description\": \"\"\n      }\n    },\n    {\n      \"column\": \"75%\",\n      \"properties\": {\n        \"dtype\": \"number\",\n        \"std\": 42844.22032620831,\n        \"min\": 4.0,\n        \"max\": 148622.75,\n        \"num_unique_values\": 10,\n        \"samples\": [\n          7.5\n        ],\n        \"semantic_type\": \"\",\n        \"description\": \"\"\n      }\n    },\n    {\n      \"column\": \"max\",\n      \"properties\": {\n        \"dtype\": \"number\",\n        \"std\": 57641.36710451268,\n        \"min\": 5.0,\n        \"max\": 199951.0,\n        \"num_unique_values\": 10,\n        \"samples\": [\n          12.6\n        ],\n        \"semantic_type\": \"\",\n        \"description\": \"\"\n      }\n    }\n  ]\n}"
            }
          },
          "metadata": {},
          "execution_count": 126
        }
      ]
    },
    {
      "cell_type": "markdown",
      "source": [
        "# Missing Values"
      ],
      "metadata": {
        "id": "rCkAggppC3Py"
      }
    },
    {
      "cell_type": "code",
      "source": [
        "df.isna().sum()"
      ],
      "metadata": {
        "colab": {
          "base_uri": "https://localhost:8080/",
          "height": 868
        },
        "id": "dEbZ6NhuBg_f",
        "outputId": "327e24f5-45e7-4f2c-cb64-62d57442bc9b"
      },
      "execution_count": 127,
      "outputs": [
        {
          "output_type": "execute_result",
          "data": {
            "text/plain": [
              "id                              0\n",
              "name                            0\n",
              "age                             0\n",
              "gender                          0\n",
              "country                         0\n",
              "city                            0\n",
              "education_level               420\n",
              "employment_status               0\n",
              "annual_income_usd               0\n",
              "marital_status                  0\n",
              "children_count                  0\n",
              "smokes_per_day                  0\n",
              "drinks_per_week                 0\n",
              "age_started_smoking             0\n",
              "age_started_drinking            0\n",
              "attempts_to_quit_smoking        0\n",
              "attempts_to_quit_drinking       0\n",
              "has_health_issues               0\n",
              "mental_health_status            0\n",
              "exercise_frequency              0\n",
              "diet_quality                    0\n",
              "sleep_hours                     0\n",
              "bmi                             0\n",
              "social_support                753\n",
              "therapy_history              1014\n",
              "dtype: int64"
            ],
            "text/html": [
              "<div>\n",
              "<style scoped>\n",
              "    .dataframe tbody tr th:only-of-type {\n",
              "        vertical-align: middle;\n",
              "    }\n",
              "\n",
              "    .dataframe tbody tr th {\n",
              "        vertical-align: top;\n",
              "    }\n",
              "\n",
              "    .dataframe thead th {\n",
              "        text-align: right;\n",
              "    }\n",
              "</style>\n",
              "<table border=\"1\" class=\"dataframe\">\n",
              "  <thead>\n",
              "    <tr style=\"text-align: right;\">\n",
              "      <th></th>\n",
              "      <th>0</th>\n",
              "    </tr>\n",
              "  </thead>\n",
              "  <tbody>\n",
              "    <tr>\n",
              "      <th>id</th>\n",
              "      <td>0</td>\n",
              "    </tr>\n",
              "    <tr>\n",
              "      <th>name</th>\n",
              "      <td>0</td>\n",
              "    </tr>\n",
              "    <tr>\n",
              "      <th>age</th>\n",
              "      <td>0</td>\n",
              "    </tr>\n",
              "    <tr>\n",
              "      <th>gender</th>\n",
              "      <td>0</td>\n",
              "    </tr>\n",
              "    <tr>\n",
              "      <th>country</th>\n",
              "      <td>0</td>\n",
              "    </tr>\n",
              "    <tr>\n",
              "      <th>city</th>\n",
              "      <td>0</td>\n",
              "    </tr>\n",
              "    <tr>\n",
              "      <th>education_level</th>\n",
              "      <td>420</td>\n",
              "    </tr>\n",
              "    <tr>\n",
              "      <th>employment_status</th>\n",
              "      <td>0</td>\n",
              "    </tr>\n",
              "    <tr>\n",
              "      <th>annual_income_usd</th>\n",
              "      <td>0</td>\n",
              "    </tr>\n",
              "    <tr>\n",
              "      <th>marital_status</th>\n",
              "      <td>0</td>\n",
              "    </tr>\n",
              "    <tr>\n",
              "      <th>children_count</th>\n",
              "      <td>0</td>\n",
              "    </tr>\n",
              "    <tr>\n",
              "      <th>smokes_per_day</th>\n",
              "      <td>0</td>\n",
              "    </tr>\n",
              "    <tr>\n",
              "      <th>drinks_per_week</th>\n",
              "      <td>0</td>\n",
              "    </tr>\n",
              "    <tr>\n",
              "      <th>age_started_smoking</th>\n",
              "      <td>0</td>\n",
              "    </tr>\n",
              "    <tr>\n",
              "      <th>age_started_drinking</th>\n",
              "      <td>0</td>\n",
              "    </tr>\n",
              "    <tr>\n",
              "      <th>attempts_to_quit_smoking</th>\n",
              "      <td>0</td>\n",
              "    </tr>\n",
              "    <tr>\n",
              "      <th>attempts_to_quit_drinking</th>\n",
              "      <td>0</td>\n",
              "    </tr>\n",
              "    <tr>\n",
              "      <th>has_health_issues</th>\n",
              "      <td>0</td>\n",
              "    </tr>\n",
              "    <tr>\n",
              "      <th>mental_health_status</th>\n",
              "      <td>0</td>\n",
              "    </tr>\n",
              "    <tr>\n",
              "      <th>exercise_frequency</th>\n",
              "      <td>0</td>\n",
              "    </tr>\n",
              "    <tr>\n",
              "      <th>diet_quality</th>\n",
              "      <td>0</td>\n",
              "    </tr>\n",
              "    <tr>\n",
              "      <th>sleep_hours</th>\n",
              "      <td>0</td>\n",
              "    </tr>\n",
              "    <tr>\n",
              "      <th>bmi</th>\n",
              "      <td>0</td>\n",
              "    </tr>\n",
              "    <tr>\n",
              "      <th>social_support</th>\n",
              "      <td>753</td>\n",
              "    </tr>\n",
              "    <tr>\n",
              "      <th>therapy_history</th>\n",
              "      <td>1014</td>\n",
              "    </tr>\n",
              "  </tbody>\n",
              "</table>\n",
              "</div><br><label><b>dtype:</b> int64</label>"
            ]
          },
          "metadata": {},
          "execution_count": 127
        }
      ]
    },
    {
      "cell_type": "markdown",
      "source": [
        "There are several nan-values in three columns. I want to start to evaluate with therapy_history column which has nan-values more."
      ],
      "metadata": {
        "id": "oJ8TKyebC8E3"
      }
    },
    {
      "cell_type": "code",
      "source": [
        "df['therapy_history'].unique()"
      ],
      "metadata": {
        "colab": {
          "base_uri": "https://localhost:8080/"
        },
        "id": "sWZ00DqWCx91",
        "outputId": "680a0ea3-69fe-46fc-f2a3-a226984c7fee"
      },
      "execution_count": 128,
      "outputs": [
        {
          "output_type": "execute_result",
          "data": {
            "text/plain": [
              "array(['Current', nan, 'Past'], dtype=object)"
            ]
          },
          "metadata": {},
          "execution_count": 128
        }
      ]
    },
    {
      "cell_type": "markdown",
      "source": [
        "There are just 3 unique values includes nan. That's why I fill nan-values with 'No Data'"
      ],
      "metadata": {
        "id": "-4BOJ4pEDLOX"
      }
    },
    {
      "cell_type": "markdown",
      "source": [
        "NOTE: While I am visualizing data, I noticed that nan values may be no instead of no data."
      ],
      "metadata": {
        "id": "wO9YYET-XKju"
      }
    },
    {
      "cell_type": "code",
      "source": [
        "df['therapy_history'] = df['therapy_history'].fillna('No')"
      ],
      "metadata": {
        "id": "hoSzeug8C0-X"
      },
      "execution_count": 129,
      "outputs": []
    },
    {
      "cell_type": "code",
      "source": [
        "df['social_support'].unique()"
      ],
      "metadata": {
        "colab": {
          "base_uri": "https://localhost:8080/"
        },
        "id": "r1ZCsK6IDgP9",
        "outputId": "b4080712-475d-4a63-931f-219cc6d3960a"
      },
      "execution_count": 130,
      "outputs": [
        {
          "output_type": "execute_result",
          "data": {
            "text/plain": [
              "array([nan, 'Moderate', 'Weak', 'Strong'], dtype=object)"
            ]
          },
          "metadata": {},
          "execution_count": 130
        }
      ]
    },
    {
      "cell_type": "markdown",
      "source": [
        "social_support column has the similar properties with therapy_history. So I apply the same process"
      ],
      "metadata": {
        "id": "U1gWi20HF0lj"
      }
    },
    {
      "cell_type": "code",
      "source": [
        "df['social_support'] = df['social_support'].fillna('No data')"
      ],
      "metadata": {
        "id": "cFRzZgBVFyYc"
      },
      "execution_count": 131,
      "outputs": []
    },
    {
      "cell_type": "code",
      "source": [
        "df['education_level'].unique()"
      ],
      "metadata": {
        "colab": {
          "base_uri": "https://localhost:8080/"
        },
        "id": "Hph3GqikF_7e",
        "outputId": "3eb87713-94a3-40ed-c71b-348c66bdbba9"
      },
      "execution_count": 132,
      "outputs": [
        {
          "output_type": "execute_result",
          "data": {
            "text/plain": [
              "array(['Secondary', 'Primary', 'Postgraduate', 'University', 'College',\n",
              "       'High School', nan], dtype=object)"
            ]
          },
          "metadata": {},
          "execution_count": 132
        }
      ]
    },
    {
      "cell_type": "markdown",
      "source": [
        "After I checked the education levels, my estimation is nan values are no education. So I will put '-'. It can be wrong but it is not critic because it is just a data analysis project, not AI/ML."
      ],
      "metadata": {
        "id": "Gnim19AbGc-l"
      }
    },
    {
      "cell_type": "code",
      "source": [
        "df['education_level'] = df['education_level'].fillna('-')"
      ],
      "metadata": {
        "id": "-YgoiUh8GCG2"
      },
      "execution_count": 133,
      "outputs": []
    },
    {
      "cell_type": "markdown",
      "source": [
        "# Classifying Columns"
      ],
      "metadata": {
        "id": "D9574TuMG7Vh"
      }
    },
    {
      "cell_type": "code",
      "source": [
        "def grab_col_names(dataframe, cat_th=20, car_th=20):\n",
        "    \"\"\"\n",
        "    :param dataframe: This is our data we are working on.\n",
        "    :param cat_th: This is the threshold for checking numeric columns if they are actually numeric or categoric\n",
        "    :param car_th: If a categorical variable has more than 20 observations, data mining is difficult.\n",
        "     Thus it is said to be cardinal variable.\n",
        "    :return: The function returns categorical, numerical and cardinal columns\n",
        "    \"\"\"\n",
        "    cat_cols = [col for col in dataframe.columns if dataframe[col].dtypes == 'O']\n",
        "\n",
        "    num_but_cat = [col for col in dataframe.columns if dataframe[col].nunique() > cat_th and\n",
        "                   dataframe[col].dtypes != 'O']\n",
        "\n",
        "    cat_but_car = [col for col in dataframe.columns if dataframe[col].nunique() > car_th and\n",
        "                   dataframe[col].dtypes == 'O']\n",
        "\n",
        "    cat_cols = cat_cols + num_but_cat\n",
        "    cat_cols = [col for col in dataframe.columns if col not in cat_but_car]\n",
        "\n",
        "    num_cols = [col for col in dataframe.columns if dataframe[col].dtypes != 'O']\n",
        "    num_cols = [col for col in num_cols if col not in num_but_cat]\n",
        "\n",
        "    print(f'Observations: {dataframe.shape[0]}')\n",
        "    print(f'Variables: {dataframe.shape[1]}')\n",
        "    print(f'Categorical columns: {len(cat_cols)}')\n",
        "    print(f'Numeric columns: {len(num_cols)}')\n",
        "    print(f'Num_but_cat columns: {len(num_but_cat)}')\n",
        "    print(f'Cat_but_car columns: {len(cat_but_car)}')\n",
        "\n",
        "    return cat_cols, num_cols, cat_but_car\n",
        "\n",
        "\n",
        "cat_cols, num_cols, cat_but_car = grab_col_names(df)\n",
        "\n",
        "print(f'Numerical columns\\n{num_cols}')\n",
        "print(f'Categorical columns\\n{cat_cols}')\n",
        "print(f'Categorical but cardinal columns\\n{cat_but_car}')"
      ],
      "metadata": {
        "colab": {
          "base_uri": "https://localhost:8080/"
        },
        "id": "dgHmGzpnG_pc",
        "outputId": "0d10b0ff-1f71-4757-82ca-0478e670c566"
      },
      "execution_count": 134,
      "outputs": [
        {
          "output_type": "stream",
          "name": "stdout",
          "text": [
            "Observations: 3000\n",
            "Variables: 25\n",
            "Categorical columns: 22\n",
            "Numeric columns: 6\n",
            "Num_but_cat columns: 7\n",
            "Cat_but_car columns: 3\n",
            "Numerical columns\n",
            "['children_count', 'smokes_per_day', 'drinks_per_week', 'attempts_to_quit_smoking', 'attempts_to_quit_drinking', 'has_health_issues']\n",
            "Categorical columns\n",
            "['id', 'age', 'gender', 'education_level', 'employment_status', 'annual_income_usd', 'marital_status', 'children_count', 'smokes_per_day', 'drinks_per_week', 'age_started_smoking', 'age_started_drinking', 'attempts_to_quit_smoking', 'attempts_to_quit_drinking', 'has_health_issues', 'mental_health_status', 'exercise_frequency', 'diet_quality', 'sleep_hours', 'bmi', 'social_support', 'therapy_history']\n",
            "Categorical but cardinal columns\n",
            "['name', 'country', 'city']\n"
          ]
        }
      ]
    },
    {
      "cell_type": "markdown",
      "source": [
        "Cardinal columns are like categorical data. However variety of cardinal data is more than we need such as ID number or name. They are unique or almost unique values. Especially in ML projects, we need to remove these cardinal values."
      ],
      "metadata": {
        "id": "SPKsTF92IVNU"
      }
    },
    {
      "cell_type": "code",
      "source": [
        "df = df.drop(['id', 'country', 'city', 'name'], axis = 1)"
      ],
      "metadata": {
        "id": "-QoULb8DHYB1"
      },
      "execution_count": 135,
      "outputs": []
    },
    {
      "cell_type": "markdown",
      "source": [
        "# Outliers"
      ],
      "metadata": {
        "id": "WoyNS_BcJJ7H"
      }
    },
    {
      "cell_type": "markdown",
      "source": [
        "Outliers are values which are quite different from the general distribution of data. While we are trying to decide the structure of general data, they can make us stumble for our estimations."
      ],
      "metadata": {
        "id": "MazKwIYaJppB"
      }
    },
    {
      "cell_type": "markdown",
      "source": [
        "In AI/ML projects, outliers may cause wrong results. Consequently, they need to be evaluated by several ways such as filling with median/mode, deleting, doing nothing etc. Firstly we check and determine the outliers."
      ],
      "metadata": {
        "id": "nHECjw-hJQoB"
      }
    },
    {
      "cell_type": "code",
      "source": [
        "def outlier_detector(dataframe, third=0.9, first=0.1):\n",
        "    outliers_info = {}\n",
        "\n",
        "    for col in dataframe.columns:\n",
        "        if dataframe[col].dtype in ['float64', 'int64']:\n",
        "            q3 = dataframe[col].quantile(third)\n",
        "            q1 = dataframe[col].quantile(first)\n",
        "            iqr = q3 - q1\n",
        "            low = q1 - 1.5 * iqr\n",
        "            up = q3 + 1.5 * iqr\n",
        "\n",
        "            outliers = dataframe[(dataframe[col] > up) | (dataframe[col] < low)]\n",
        "            outliers_count = len(outliers)\n",
        "\n",
        "            if outliers_count > 0:\n",
        "                outliers_info[col] = outliers_count\n",
        "\n",
        "    return outliers_info\n",
        "\n",
        "outliers_in_columns = outlier_detector(df)\n",
        "print(outliers_in_columns)"
      ],
      "metadata": {
        "colab": {
          "base_uri": "https://localhost:8080/"
        },
        "id": "BVuocTr2JDYN",
        "outputId": "b09b18ae-0c0a-4316-968b-2f09716bb2a4"
      },
      "execution_count": 136,
      "outputs": [
        {
          "output_type": "stream",
          "name": "stdout",
          "text": [
            "{}\n"
          ]
        }
      ]
    },
    {
      "cell_type": "markdown",
      "source": [
        "According to our outlier detection function, there is no outlier that we need to evaluate."
      ],
      "metadata": {
        "id": "9EpDSbnGKYC7"
      }
    },
    {
      "cell_type": "markdown",
      "source": [
        "NOTE: You can set the thresholds for this outlier_detector function. These thresholds may change due to field/sector you work on or your need."
      ],
      "metadata": {
        "id": "452zvCLIKf1F"
      }
    },
    {
      "cell_type": "markdown",
      "source": [
        "NOTE2: Outliers are also detected by kde plots, or some graphs such as boxplot, violinplot."
      ],
      "metadata": {
        "id": "VklEIrpfKya4"
      }
    },
    {
      "cell_type": "markdown",
      "source": [
        "# Data Visulation"
      ],
      "metadata": {
        "id": "0CM22O89K9pn"
      }
    },
    {
      "cell_type": "code",
      "source": [
        "print(plt.style.available)"
      ],
      "metadata": {
        "colab": {
          "base_uri": "https://localhost:8080/"
        },
        "id": "5KUtCxrqL0TJ",
        "outputId": "d1b5d721-cc25-48f4-a5b9-e9cd612d640b"
      },
      "execution_count": 137,
      "outputs": [
        {
          "output_type": "stream",
          "name": "stdout",
          "text": [
            "['Solarize_Light2', '_classic_test_patch', '_mpl-gallery', '_mpl-gallery-nogrid', 'bmh', 'classic', 'dark_background', 'fast', 'fivethirtyeight', 'ggplot', 'grayscale', 'petroff10', 'seaborn-v0_8', 'seaborn-v0_8-bright', 'seaborn-v0_8-colorblind', 'seaborn-v0_8-dark', 'seaborn-v0_8-dark-palette', 'seaborn-v0_8-darkgrid', 'seaborn-v0_8-deep', 'seaborn-v0_8-muted', 'seaborn-v0_8-notebook', 'seaborn-v0_8-paper', 'seaborn-v0_8-pastel', 'seaborn-v0_8-poster', 'seaborn-v0_8-talk', 'seaborn-v0_8-ticks', 'seaborn-v0_8-white', 'seaborn-v0_8-whitegrid', 'tableau-colorblind10']\n"
          ]
        }
      ]
    },
    {
      "cell_type": "code",
      "source": [
        "plt.style.use('ggplot')\n",
        "plt.figure(figsize = (12, 8))"
      ],
      "metadata": {
        "colab": {
          "base_uri": "https://localhost:8080/",
          "height": 52
        },
        "id": "6lV_oj8vL73L",
        "outputId": "e010d1a9-4f73-43eb-ab1e-f36c5c80ed49"
      },
      "execution_count": 138,
      "outputs": [
        {
          "output_type": "execute_result",
          "data": {
            "text/plain": [
              "<Figure size 1200x800 with 0 Axes>"
            ]
          },
          "metadata": {},
          "execution_count": 138
        },
        {
          "output_type": "display_data",
          "data": {
            "text/plain": [
              "<Figure size 1200x800 with 0 Axes>"
            ]
          },
          "metadata": {}
        }
      ]
    },
    {
      "cell_type": "markdown",
      "source": [
        "For visulation of data, I need to see dataset in detail."
      ],
      "metadata": {
        "id": "5i98TFsULAG3"
      }
    },
    {
      "cell_type": "code",
      "source": [
        "df.info()"
      ],
      "metadata": {
        "colab": {
          "base_uri": "https://localhost:8080/"
        },
        "id": "n0jbJKmfK_qw",
        "outputId": "2ac78e47-8791-4a72-be10-c1ecca5aba41"
      },
      "execution_count": 139,
      "outputs": [
        {
          "output_type": "stream",
          "name": "stdout",
          "text": [
            "<class 'pandas.core.frame.DataFrame'>\n",
            "RangeIndex: 3000 entries, 0 to 2999\n",
            "Data columns (total 21 columns):\n",
            " #   Column                     Non-Null Count  Dtype  \n",
            "---  ------                     --------------  -----  \n",
            " 0   age                        3000 non-null   int64  \n",
            " 1   gender                     3000 non-null   object \n",
            " 2   education_level            3000 non-null   object \n",
            " 3   employment_status          3000 non-null   object \n",
            " 4   annual_income_usd          3000 non-null   int64  \n",
            " 5   marital_status             3000 non-null   object \n",
            " 6   children_count             3000 non-null   int64  \n",
            " 7   smokes_per_day             3000 non-null   int64  \n",
            " 8   drinks_per_week            3000 non-null   int64  \n",
            " 9   age_started_smoking        3000 non-null   int64  \n",
            " 10  age_started_drinking       3000 non-null   int64  \n",
            " 11  attempts_to_quit_smoking   3000 non-null   int64  \n",
            " 12  attempts_to_quit_drinking  3000 non-null   int64  \n",
            " 13  has_health_issues          3000 non-null   bool   \n",
            " 14  mental_health_status       3000 non-null   object \n",
            " 15  exercise_frequency         3000 non-null   object \n",
            " 16  diet_quality               3000 non-null   object \n",
            " 17  sleep_hours                3000 non-null   float64\n",
            " 18  bmi                        3000 non-null   float64\n",
            " 19  social_support             3000 non-null   object \n",
            " 20  therapy_history            3000 non-null   object \n",
            "dtypes: bool(1), float64(2), int64(9), object(9)\n",
            "memory usage: 471.8+ KB\n"
          ]
        }
      ]
    },
    {
      "cell_type": "code",
      "source": [
        "df.head()"
      ],
      "metadata": {
        "colab": {
          "base_uri": "https://localhost:8080/",
          "height": 255
        },
        "id": "-QsNoHcYLG5c",
        "outputId": "4152a496-4dc8-48fd-8f94-01a44686f8b8"
      },
      "execution_count": 140,
      "outputs": [
        {
          "output_type": "execute_result",
          "data": {
            "text/plain": [
              "   age  gender education_level employment_status  annual_income_usd  \\\n",
              "0   66   Other       Secondary           Student              45595   \n",
              "1   29    Male         Primary     Self-Employed             145842   \n",
              "2   75    Male    Postgraduate        Unemployed             162480   \n",
              "3   35   Other      University        Unemployed              16023   \n",
              "4   38  Female         College     Self-Employed              62933   \n",
              "\n",
              "      marital_status  children_count  smokes_per_day  drinks_per_week  \\\n",
              "0            Married               3               5                4   \n",
              "1             Single               4              11                3   \n",
              "2             Single               5              13                4   \n",
              "3  In a relationship               3               7                4   \n",
              "4  In a relationship               0               8                2   \n",
              "\n",
              "   age_started_smoking  ...  attempts_to_quit_smoking  \\\n",
              "0                   12  ...                         6   \n",
              "1                   11  ...                         1   \n",
              "2                   18  ...                         9   \n",
              "3                   37  ...                         5   \n",
              "4                   20  ...                         4   \n",
              "\n",
              "   attempts_to_quit_drinking  has_health_issues  mental_health_status  \\\n",
              "0                          2               True                  Good   \n",
              "1                          6              False                  Poor   \n",
              "2                          9               True                  Good   \n",
              "3                          7              False               Average   \n",
              "4                          7               True                  Poor   \n",
              "\n",
              "  exercise_frequency diet_quality sleep_hours   bmi  social_support  \\\n",
              "0              Daily      Average         5.6  22.4         No data   \n",
              "1             Weekly         Good         6.7  24.1        Moderate   \n",
              "2              Never         Good         6.2  22.2            Weak   \n",
              "3              Daily         Good         7.2  25.5        Moderate   \n",
              "4             Weekly         Good         8.5  31.2            Weak   \n",
              "\n",
              "  therapy_history  \n",
              "0         Current  \n",
              "1              No  \n",
              "2              No  \n",
              "3         Current  \n",
              "4            Past  \n",
              "\n",
              "[5 rows x 21 columns]"
            ],
            "text/html": [
              "\n",
              "  <div id=\"df-eef1db87-f96f-4773-aef1-d8303286f65d\" class=\"colab-df-container\">\n",
              "    <div>\n",
              "<style scoped>\n",
              "    .dataframe tbody tr th:only-of-type {\n",
              "        vertical-align: middle;\n",
              "    }\n",
              "\n",
              "    .dataframe tbody tr th {\n",
              "        vertical-align: top;\n",
              "    }\n",
              "\n",
              "    .dataframe thead th {\n",
              "        text-align: right;\n",
              "    }\n",
              "</style>\n",
              "<table border=\"1\" class=\"dataframe\">\n",
              "  <thead>\n",
              "    <tr style=\"text-align: right;\">\n",
              "      <th></th>\n",
              "      <th>age</th>\n",
              "      <th>gender</th>\n",
              "      <th>education_level</th>\n",
              "      <th>employment_status</th>\n",
              "      <th>annual_income_usd</th>\n",
              "      <th>marital_status</th>\n",
              "      <th>children_count</th>\n",
              "      <th>smokes_per_day</th>\n",
              "      <th>drinks_per_week</th>\n",
              "      <th>age_started_smoking</th>\n",
              "      <th>...</th>\n",
              "      <th>attempts_to_quit_smoking</th>\n",
              "      <th>attempts_to_quit_drinking</th>\n",
              "      <th>has_health_issues</th>\n",
              "      <th>mental_health_status</th>\n",
              "      <th>exercise_frequency</th>\n",
              "      <th>diet_quality</th>\n",
              "      <th>sleep_hours</th>\n",
              "      <th>bmi</th>\n",
              "      <th>social_support</th>\n",
              "      <th>therapy_history</th>\n",
              "    </tr>\n",
              "  </thead>\n",
              "  <tbody>\n",
              "    <tr>\n",
              "      <th>0</th>\n",
              "      <td>66</td>\n",
              "      <td>Other</td>\n",
              "      <td>Secondary</td>\n",
              "      <td>Student</td>\n",
              "      <td>45595</td>\n",
              "      <td>Married</td>\n",
              "      <td>3</td>\n",
              "      <td>5</td>\n",
              "      <td>4</td>\n",
              "      <td>12</td>\n",
              "      <td>...</td>\n",
              "      <td>6</td>\n",
              "      <td>2</td>\n",
              "      <td>True</td>\n",
              "      <td>Good</td>\n",
              "      <td>Daily</td>\n",
              "      <td>Average</td>\n",
              "      <td>5.6</td>\n",
              "      <td>22.4</td>\n",
              "      <td>No data</td>\n",
              "      <td>Current</td>\n",
              "    </tr>\n",
              "    <tr>\n",
              "      <th>1</th>\n",
              "      <td>29</td>\n",
              "      <td>Male</td>\n",
              "      <td>Primary</td>\n",
              "      <td>Self-Employed</td>\n",
              "      <td>145842</td>\n",
              "      <td>Single</td>\n",
              "      <td>4</td>\n",
              "      <td>11</td>\n",
              "      <td>3</td>\n",
              "      <td>11</td>\n",
              "      <td>...</td>\n",
              "      <td>1</td>\n",
              "      <td>6</td>\n",
              "      <td>False</td>\n",
              "      <td>Poor</td>\n",
              "      <td>Weekly</td>\n",
              "      <td>Good</td>\n",
              "      <td>6.7</td>\n",
              "      <td>24.1</td>\n",
              "      <td>Moderate</td>\n",
              "      <td>No</td>\n",
              "    </tr>\n",
              "    <tr>\n",
              "      <th>2</th>\n",
              "      <td>75</td>\n",
              "      <td>Male</td>\n",
              "      <td>Postgraduate</td>\n",
              "      <td>Unemployed</td>\n",
              "      <td>162480</td>\n",
              "      <td>Single</td>\n",
              "      <td>5</td>\n",
              "      <td>13</td>\n",
              "      <td>4</td>\n",
              "      <td>18</td>\n",
              "      <td>...</td>\n",
              "      <td>9</td>\n",
              "      <td>9</td>\n",
              "      <td>True</td>\n",
              "      <td>Good</td>\n",
              "      <td>Never</td>\n",
              "      <td>Good</td>\n",
              "      <td>6.2</td>\n",
              "      <td>22.2</td>\n",
              "      <td>Weak</td>\n",
              "      <td>No</td>\n",
              "    </tr>\n",
              "    <tr>\n",
              "      <th>3</th>\n",
              "      <td>35</td>\n",
              "      <td>Other</td>\n",
              "      <td>University</td>\n",
              "      <td>Unemployed</td>\n",
              "      <td>16023</td>\n",
              "      <td>In a relationship</td>\n",
              "      <td>3</td>\n",
              "      <td>7</td>\n",
              "      <td>4</td>\n",
              "      <td>37</td>\n",
              "      <td>...</td>\n",
              "      <td>5</td>\n",
              "      <td>7</td>\n",
              "      <td>False</td>\n",
              "      <td>Average</td>\n",
              "      <td>Daily</td>\n",
              "      <td>Good</td>\n",
              "      <td>7.2</td>\n",
              "      <td>25.5</td>\n",
              "      <td>Moderate</td>\n",
              "      <td>Current</td>\n",
              "    </tr>\n",
              "    <tr>\n",
              "      <th>4</th>\n",
              "      <td>38</td>\n",
              "      <td>Female</td>\n",
              "      <td>College</td>\n",
              "      <td>Self-Employed</td>\n",
              "      <td>62933</td>\n",
              "      <td>In a relationship</td>\n",
              "      <td>0</td>\n",
              "      <td>8</td>\n",
              "      <td>2</td>\n",
              "      <td>20</td>\n",
              "      <td>...</td>\n",
              "      <td>4</td>\n",
              "      <td>7</td>\n",
              "      <td>True</td>\n",
              "      <td>Poor</td>\n",
              "      <td>Weekly</td>\n",
              "      <td>Good</td>\n",
              "      <td>8.5</td>\n",
              "      <td>31.2</td>\n",
              "      <td>Weak</td>\n",
              "      <td>Past</td>\n",
              "    </tr>\n",
              "  </tbody>\n",
              "</table>\n",
              "<p>5 rows × 21 columns</p>\n",
              "</div>\n",
              "    <div class=\"colab-df-buttons\">\n",
              "\n",
              "  <div class=\"colab-df-container\">\n",
              "    <button class=\"colab-df-convert\" onclick=\"convertToInteractive('df-eef1db87-f96f-4773-aef1-d8303286f65d')\"\n",
              "            title=\"Convert this dataframe to an interactive table.\"\n",
              "            style=\"display:none;\">\n",
              "\n",
              "  <svg xmlns=\"http://www.w3.org/2000/svg\" height=\"24px\" viewBox=\"0 -960 960 960\">\n",
              "    <path d=\"M120-120v-720h720v720H120Zm60-500h600v-160H180v160Zm220 220h160v-160H400v160Zm0 220h160v-160H400v160ZM180-400h160v-160H180v160Zm440 0h160v-160H620v160ZM180-180h160v-160H180v160Zm440 0h160v-160H620v160Z\"/>\n",
              "  </svg>\n",
              "    </button>\n",
              "\n",
              "  <style>\n",
              "    .colab-df-container {\n",
              "      display:flex;\n",
              "      gap: 12px;\n",
              "    }\n",
              "\n",
              "    .colab-df-convert {\n",
              "      background-color: #E8F0FE;\n",
              "      border: none;\n",
              "      border-radius: 50%;\n",
              "      cursor: pointer;\n",
              "      display: none;\n",
              "      fill: #1967D2;\n",
              "      height: 32px;\n",
              "      padding: 0 0 0 0;\n",
              "      width: 32px;\n",
              "    }\n",
              "\n",
              "    .colab-df-convert:hover {\n",
              "      background-color: #E2EBFA;\n",
              "      box-shadow: 0px 1px 2px rgba(60, 64, 67, 0.3), 0px 1px 3px 1px rgba(60, 64, 67, 0.15);\n",
              "      fill: #174EA6;\n",
              "    }\n",
              "\n",
              "    .colab-df-buttons div {\n",
              "      margin-bottom: 4px;\n",
              "    }\n",
              "\n",
              "    [theme=dark] .colab-df-convert {\n",
              "      background-color: #3B4455;\n",
              "      fill: #D2E3FC;\n",
              "    }\n",
              "\n",
              "    [theme=dark] .colab-df-convert:hover {\n",
              "      background-color: #434B5C;\n",
              "      box-shadow: 0px 1px 3px 1px rgba(0, 0, 0, 0.15);\n",
              "      filter: drop-shadow(0px 1px 2px rgba(0, 0, 0, 0.3));\n",
              "      fill: #FFFFFF;\n",
              "    }\n",
              "  </style>\n",
              "\n",
              "    <script>\n",
              "      const buttonEl =\n",
              "        document.querySelector('#df-eef1db87-f96f-4773-aef1-d8303286f65d button.colab-df-convert');\n",
              "      buttonEl.style.display =\n",
              "        google.colab.kernel.accessAllowed ? 'block' : 'none';\n",
              "\n",
              "      async function convertToInteractive(key) {\n",
              "        const element = document.querySelector('#df-eef1db87-f96f-4773-aef1-d8303286f65d');\n",
              "        const dataTable =\n",
              "          await google.colab.kernel.invokeFunction('convertToInteractive',\n",
              "                                                    [key], {});\n",
              "        if (!dataTable) return;\n",
              "\n",
              "        const docLinkHtml = 'Like what you see? Visit the ' +\n",
              "          '<a target=\"_blank\" href=https://colab.research.google.com/notebooks/data_table.ipynb>data table notebook</a>'\n",
              "          + ' to learn more about interactive tables.';\n",
              "        element.innerHTML = '';\n",
              "        dataTable['output_type'] = 'display_data';\n",
              "        await google.colab.output.renderOutput(dataTable, element);\n",
              "        const docLink = document.createElement('div');\n",
              "        docLink.innerHTML = docLinkHtml;\n",
              "        element.appendChild(docLink);\n",
              "      }\n",
              "    </script>\n",
              "  </div>\n",
              "\n",
              "\n",
              "    <div id=\"df-21ff1f31-aa11-4e9c-af11-ddfcb81f6b61\">\n",
              "      <button class=\"colab-df-quickchart\" onclick=\"quickchart('df-21ff1f31-aa11-4e9c-af11-ddfcb81f6b61')\"\n",
              "                title=\"Suggest charts\"\n",
              "                style=\"display:none;\">\n",
              "\n",
              "<svg xmlns=\"http://www.w3.org/2000/svg\" height=\"24px\"viewBox=\"0 0 24 24\"\n",
              "     width=\"24px\">\n",
              "    <g>\n",
              "        <path d=\"M19 3H5c-1.1 0-2 .9-2 2v14c0 1.1.9 2 2 2h14c1.1 0 2-.9 2-2V5c0-1.1-.9-2-2-2zM9 17H7v-7h2v7zm4 0h-2V7h2v10zm4 0h-2v-4h2v4z\"/>\n",
              "    </g>\n",
              "</svg>\n",
              "      </button>\n",
              "\n",
              "<style>\n",
              "  .colab-df-quickchart {\n",
              "      --bg-color: #E8F0FE;\n",
              "      --fill-color: #1967D2;\n",
              "      --hover-bg-color: #E2EBFA;\n",
              "      --hover-fill-color: #174EA6;\n",
              "      --disabled-fill-color: #AAA;\n",
              "      --disabled-bg-color: #DDD;\n",
              "  }\n",
              "\n",
              "  [theme=dark] .colab-df-quickchart {\n",
              "      --bg-color: #3B4455;\n",
              "      --fill-color: #D2E3FC;\n",
              "      --hover-bg-color: #434B5C;\n",
              "      --hover-fill-color: #FFFFFF;\n",
              "      --disabled-bg-color: #3B4455;\n",
              "      --disabled-fill-color: #666;\n",
              "  }\n",
              "\n",
              "  .colab-df-quickchart {\n",
              "    background-color: var(--bg-color);\n",
              "    border: none;\n",
              "    border-radius: 50%;\n",
              "    cursor: pointer;\n",
              "    display: none;\n",
              "    fill: var(--fill-color);\n",
              "    height: 32px;\n",
              "    padding: 0;\n",
              "    width: 32px;\n",
              "  }\n",
              "\n",
              "  .colab-df-quickchart:hover {\n",
              "    background-color: var(--hover-bg-color);\n",
              "    box-shadow: 0 1px 2px rgba(60, 64, 67, 0.3), 0 1px 3px 1px rgba(60, 64, 67, 0.15);\n",
              "    fill: var(--button-hover-fill-color);\n",
              "  }\n",
              "\n",
              "  .colab-df-quickchart-complete:disabled,\n",
              "  .colab-df-quickchart-complete:disabled:hover {\n",
              "    background-color: var(--disabled-bg-color);\n",
              "    fill: var(--disabled-fill-color);\n",
              "    box-shadow: none;\n",
              "  }\n",
              "\n",
              "  .colab-df-spinner {\n",
              "    border: 2px solid var(--fill-color);\n",
              "    border-color: transparent;\n",
              "    border-bottom-color: var(--fill-color);\n",
              "    animation:\n",
              "      spin 1s steps(1) infinite;\n",
              "  }\n",
              "\n",
              "  @keyframes spin {\n",
              "    0% {\n",
              "      border-color: transparent;\n",
              "      border-bottom-color: var(--fill-color);\n",
              "      border-left-color: var(--fill-color);\n",
              "    }\n",
              "    20% {\n",
              "      border-color: transparent;\n",
              "      border-left-color: var(--fill-color);\n",
              "      border-top-color: var(--fill-color);\n",
              "    }\n",
              "    30% {\n",
              "      border-color: transparent;\n",
              "      border-left-color: var(--fill-color);\n",
              "      border-top-color: var(--fill-color);\n",
              "      border-right-color: var(--fill-color);\n",
              "    }\n",
              "    40% {\n",
              "      border-color: transparent;\n",
              "      border-right-color: var(--fill-color);\n",
              "      border-top-color: var(--fill-color);\n",
              "    }\n",
              "    60% {\n",
              "      border-color: transparent;\n",
              "      border-right-color: var(--fill-color);\n",
              "    }\n",
              "    80% {\n",
              "      border-color: transparent;\n",
              "      border-right-color: var(--fill-color);\n",
              "      border-bottom-color: var(--fill-color);\n",
              "    }\n",
              "    90% {\n",
              "      border-color: transparent;\n",
              "      border-bottom-color: var(--fill-color);\n",
              "    }\n",
              "  }\n",
              "</style>\n",
              "\n",
              "      <script>\n",
              "        async function quickchart(key) {\n",
              "          const quickchartButtonEl =\n",
              "            document.querySelector('#' + key + ' button');\n",
              "          quickchartButtonEl.disabled = true;  // To prevent multiple clicks.\n",
              "          quickchartButtonEl.classList.add('colab-df-spinner');\n",
              "          try {\n",
              "            const charts = await google.colab.kernel.invokeFunction(\n",
              "                'suggestCharts', [key], {});\n",
              "          } catch (error) {\n",
              "            console.error('Error during call to suggestCharts:', error);\n",
              "          }\n",
              "          quickchartButtonEl.classList.remove('colab-df-spinner');\n",
              "          quickchartButtonEl.classList.add('colab-df-quickchart-complete');\n",
              "        }\n",
              "        (() => {\n",
              "          let quickchartButtonEl =\n",
              "            document.querySelector('#df-21ff1f31-aa11-4e9c-af11-ddfcb81f6b61 button');\n",
              "          quickchartButtonEl.style.display =\n",
              "            google.colab.kernel.accessAllowed ? 'block' : 'none';\n",
              "        })();\n",
              "      </script>\n",
              "    </div>\n",
              "\n",
              "    </div>\n",
              "  </div>\n"
            ],
            "application/vnd.google.colaboratory.intrinsic+json": {
              "type": "dataframe",
              "variable_name": "df"
            }
          },
          "metadata": {},
          "execution_count": 140
        }
      ]
    },
    {
      "cell_type": "markdown",
      "source": [
        "- Income & Smokes Per Day"
      ],
      "metadata": {
        "id": "1zq3RK3aLsm9"
      }
    },
    {
      "cell_type": "markdown",
      "source": [
        "When I tried to sketch a line plot, some problems were occur because of income column. I need to use a new column for a better graph."
      ],
      "metadata": {
        "id": "5CfwOeGmMTH8"
      }
    },
    {
      "cell_type": "code",
      "source": [
        "income_type = []\n",
        "_50k = 0\n",
        "_50k_100k = 0\n",
        "_100k_150k = 0\n",
        "_150k_ = 0\n",
        "\n",
        "for income in df['annual_income_usd']:\n",
        "  if income > 0 and income < 50000:\n",
        "    _50k += 1\n",
        "    income_type.append('0-50k')\n",
        "  elif income >= 50000 and income < 100000:\n",
        "    _50k_100k += 1\n",
        "    income_type.append('50k-100k')\n",
        "  elif income >= 100000 and income < 150000:\n",
        "    _100k_150k += 1\n",
        "    income_type.append('100k-150k')\n",
        "  else:\n",
        "    _150k_ += 1\n",
        "    income_type.append('+150k')\n",
        "\n",
        "df['income_type'] = income_type"
      ],
      "metadata": {
        "id": "YFK5284oQJQm"
      },
      "execution_count": 141,
      "outputs": []
    },
    {
      "cell_type": "markdown",
      "source": [
        "I group the annual income then create a new column called income_type. Now I will use groupby function for a better graph"
      ],
      "metadata": {
        "id": "_-cl2xg8RxZb"
      }
    },
    {
      "cell_type": "code",
      "source": [
        "new_order = ['0-50k', '50k-100k', '100k-150k', '+150k']\n",
        "\n",
        "category_type = CategoricalDtype(categories=new_order, ordered=True)\n",
        "df['income_type'] = df['income_type'].astype(category_type)"
      ],
      "metadata": {
        "id": "lklmuB9RS7Un"
      },
      "execution_count": 142,
      "outputs": []
    },
    {
      "cell_type": "code",
      "source": [
        "incometype_and_smoke = df.groupby('income_type')['smokes_per_day'].mean().reset_index()"
      ],
      "metadata": {
        "id": "7q5aMbbXR5pz"
      },
      "execution_count": 143,
      "outputs": []
    },
    {
      "cell_type": "code",
      "source": [
        "plt.xlabel('Income Type')\n",
        "plt.ylabel('Smokes per Day')\n",
        "sns.barplot(data = incometype_and_smoke, x = 'income_type', y = 'smokes_per_day', color = 'b')"
      ],
      "metadata": {
        "colab": {
          "base_uri": "https://localhost:8080/",
          "height": 470
        },
        "id": "WLa3TXpJSEpA",
        "outputId": "ec3fe7ac-2439-4aad-cc69-d36ef72a4b9b"
      },
      "execution_count": 144,
      "outputs": [
        {
          "output_type": "execute_result",
          "data": {
            "text/plain": [
              "<Axes: xlabel='Income Type', ylabel='Smokes per Day'>"
            ]
          },
          "metadata": {},
          "execution_count": 144
        },
        {
          "output_type": "display_data",
          "data": {
            "text/plain": [
              "<Figure size 640x480 with 1 Axes>"
            ],
            "image/png": "[encoded data removed]"
          },
          "metadata": {}
        }
      ]
    },
    {
      "cell_type": "code",
      "source": [
        "incometype_and_drinks = df.groupby('income_type')['drinks_per_week'].mean().reset_index()"
      ],
      "metadata": {
        "id": "YnPQxJX2Pktt"
      },
      "execution_count": 145,
      "outputs": []
    },
    {
      "cell_type": "code",
      "source": [
        "plt.xlabel('Income Type')\n",
        "plt.ylabel('Drinks per Week')\n",
        "sns.barplot(data = incometype_and_drinks, x = 'income_type', y = 'drinks_per_week')"
      ],
      "metadata": {
        "colab": {
          "base_uri": "https://localhost:8080/",
          "height": 470
        },
        "id": "2sR2h7RVPcXw",
        "outputId": "2c829f5a-c17d-40e2-b6c3-22a677318bfb"
      },
      "execution_count": 146,
      "outputs": [
        {
          "output_type": "execute_result",
          "data": {
            "text/plain": [
              "<Axes: xlabel='Income Type', ylabel='Drinks per Week'>"
            ]
          },
          "metadata": {},
          "execution_count": 146
        },
        {
          "output_type": "display_data",
          "data": {
            "text/plain": [
              "<Figure size 640x480 with 1 Axes>"
            ],
            "image/png": "[encoded data removed]"
          },
          "metadata": {}
        }
      ]
    },
    {
      "cell_type": "markdown",
      "source": [
        "An evident difference does not exist for drinking and smoking habits due to income."
      ],
      "metadata": {
        "id": "WfTA3i09QSBH"
      }
    },
    {
      "cell_type": "markdown",
      "source": [
        "- Gender"
      ],
      "metadata": {
        "id": "hAMerF5pmK7c"
      }
    },
    {
      "cell_type": "code",
      "source": [
        "df['gender'].unique()"
      ],
      "metadata": {
        "id": "ESaJGCvvmTt7",
        "colab": {
          "base_uri": "https://localhost:8080/"
        },
        "outputId": "0592260e-d33e-4b31-dfe8-52b6c75696cd"
      },
      "execution_count": 147,
      "outputs": [
        {
          "output_type": "execute_result",
          "data": {
            "text/plain": [
              "array(['Other', 'Male', 'Female'], dtype=object)"
            ]
          },
          "metadata": {},
          "execution_count": 147
        }
      ]
    },
    {
      "cell_type": "code",
      "source": [
        "other = df['gender'].value_counts()['Other']\n",
        "male = df['gender'].value_counts()['Male']\n",
        "female = df['gender'].value_counts()['Female']\n",
        "\n",
        "labels = ['Other', 'Male', 'Female']\n",
        "values = [other, male, female]\n",
        "colors = ['gray', 'blue', 'pink']\n",
        "plt.title('Genders')\n",
        "\n",
        "plt.pie(values, labels = labels, colors = colors, autopct = '%1.2f%%')"
      ],
      "metadata": {
        "colab": {
          "base_uri": "https://localhost:8080/",
          "height": 585
        },
        "id": "sVkw0d0gGxXt",
        "outputId": "71b8d782-8bc5-421e-cf09-d1cb3ed5b230"
      },
      "execution_count": 148,
      "outputs": [
        {
          "output_type": "execute_result",
          "data": {
            "text/plain": [
              "([<matplotlib.patches.Wedge at 0x79c08ad06250>,\n",
              "  <matplotlib.patches.Wedge at 0x79c08af01250>,\n",
              "  <matplotlib.patches.Wedge at 0x79c08af02b90>],\n",
              " [Text(0.5258866118681461, 0.966148679788904, 'Other'),\n",
              "  Text(-1.0999704432424267, -0.008063745597392041, 'Male'),\n",
              "  Text(0.5329547460948623, -0.9622677582746713, 'Female')],\n",
              " [Text(0.28684724283717056, 0.5269901889757658, '34.13%'),\n",
              "  Text(-0.5999838781322326, -0.004398406689486567, '31.97%'),\n",
              "  Text(0.2907025887790157, -0.5248733226952752, '33.90%')])"
            ]
          },
          "metadata": {},
          "execution_count": 148
        },
        {
          "output_type": "display_data",
          "data": {
            "text/plain": [
              "<Figure size 640x480 with 1 Axes>"
            ],
            "image/png": "[encoded data removed]"
          },
          "metadata": {}
        }
      ]
    },
    {
      "cell_type": "markdown",
      "source": [
        "- Marital Status & Attemps to Quit Smoke or Drinking"
      ],
      "metadata": {
        "id": "1ltEXOhgURkb"
      }
    },
    {
      "cell_type": "markdown",
      "source": [
        "Firstly let's see the distribution of marital status"
      ],
      "metadata": {
        "id": "oORw56ILVEIL"
      }
    },
    {
      "cell_type": "code",
      "source": [
        "df['marital_status'].unique()"
      ],
      "metadata": {
        "colab": {
          "base_uri": "https://localhost:8080/"
        },
        "id": "QDYJDEsWTQoB",
        "outputId": "1d52c6df-e966-4554-dd4a-e88cd6c720c6"
      },
      "execution_count": 149,
      "outputs": [
        {
          "output_type": "execute_result",
          "data": {
            "text/plain": [
              "array(['Married', 'Single', 'In a relationship', 'Widowed', 'Divorced'],\n",
              "      dtype=object)"
            ]
          },
          "metadata": {},
          "execution_count": 149
        }
      ]
    },
    {
      "cell_type": "code",
      "source": [
        "married = df['marital_status'].value_counts()['Married']\n",
        "single = df['marital_status'].value_counts()['Single']\n",
        "in_a_relationship = df['marital_status'].value_counts()['In a relationship']\n",
        "widowed = df['marital_status'].value_counts()['Widowed']\n",
        "divorced = df['marital_status'].value_counts()['Divorced']"
      ],
      "metadata": {
        "id": "M1YzwW7jVIsf"
      },
      "execution_count": 150,
      "outputs": []
    },
    {
      "cell_type": "code",
      "source": [
        "labels = ['Married', 'Single', 'In a relationship', 'Widowed', 'Divorced']\n",
        "values = [married, single, in_a_relationship, widowed, divorced]\n",
        "\n",
        "plt.title('Distribution of Partipiciants')\n",
        "plt.pie(values, labels = labels, autopct = '%1.2f%%')"
      ],
      "metadata": {
        "colab": {
          "base_uri": "https://localhost:8080/",
          "height": 689
        },
        "id": "-_9FykvjVeIy",
        "outputId": "c57137af-522b-4be0-ca82-ef2ff65228e6"
      },
      "execution_count": 151,
      "outputs": [
        {
          "output_type": "execute_result",
          "data": {
            "text/plain": [
              "([<matplotlib.patches.Wedge at 0x79c08af7cf50>,\n",
              "  <matplotlib.patches.Wedge at 0x79c08af44910>,\n",
              "  <matplotlib.patches.Wedge at 0x79c08af46210>,\n",
              "  <matplotlib.patches.Wedge at 0x79c08af47710>,\n",
              "  <matplotlib.patches.Wedge at 0x79c08af19150>],\n",
              " [Text(0.8946343128972213, 0.6400230044200889, 'Married'),\n",
              "  Text(-0.3388229653995254, 1.0465175574818955, 'Single'),\n",
              "  Text(-1.09982569581475, 0.019581594051579467, 'In a relationship'),\n",
              "  Text(-0.3344363198072662, -1.0479276444458234, 'Widowed'),\n",
              "  Text(0.9084917261155012, -0.620195762303869, 'Divorced')],\n",
              " [Text(0.48798235248939337, 0.34910345695641204, '19.77%'),\n",
              "  Text(-0.1848125265815593, 0.5708277586264884, '20.43%'),\n",
              "  Text(-0.5999049249898637, 0.01068086948267971, '19.03%'),\n",
              "  Text(-0.18241981080396336, -0.571596896970449, '21.70%'),\n",
              "  Text(0.4955409415175461, -0.3382885976202921, '19.07%')])"
            ]
          },
          "metadata": {},
          "execution_count": 151
        },
        {
          "output_type": "display_data",
          "data": {
            "text/plain": [
              "<Figure size 640x480 with 1 Axes>"
            ],
            "image/png": "[encoded data removed]"
          },
          "metadata": {}
        }
      ]
    },
    {
      "cell_type": "markdown",
      "source": [
        "Let's make it more specific. Single & Has a Partner"
      ],
      "metadata": {
        "id": "kHeZI6v-WArI"
      }
    },
    {
      "cell_type": "code",
      "source": [
        "single = single + widowed + divorced\n",
        "has_a_partner = in_a_relationship + married\n",
        "\n",
        "labels = ['Single', 'Has a Partner']\n",
        "values = [single, has_a_partner]\n",
        "colors = ['red', 'blue']\n",
        "plt.title('Distribution of Partipiciants')\n",
        "plt.pie(values, labels = labels, colors = colors, autopct = '%1.2f%%')"
      ],
      "metadata": {
        "colab": {
          "base_uri": "https://localhost:8080/",
          "height": 533
        },
        "id": "_RVGw4BqWH0J",
        "outputId": "bf279e4c-5284-49ae-c019-8dca90f1bd64"
      },
      "execution_count": 152,
      "outputs": [
        {
          "output_type": "execute_result",
          "data": {
            "text/plain": [
              "([<matplotlib.patches.Wedge at 0x79c08af469d0>,\n",
              "  <matplotlib.patches.Wedge at 0x79c08affff90>],\n",
              " [Text(-0.3791072608915766, 1.0326072267514335, 'Single'),\n",
              "  Text(0.37910747426133684, -1.0326071484156936, 'Has a Partner')],\n",
              " [Text(-0.20678577866813266, 0.5632403055007817, '61.20%'),\n",
              "  Text(0.20678589505163825, -0.5632402627721964, '38.80%')])"
            ]
          },
          "metadata": {},
          "execution_count": 152
        },
        {
          "output_type": "display_data",
          "data": {
            "text/plain": [
              "<Figure size 640x480 with 1 Axes>"
            ],
            "image/png": "[encoded data removed]"
          },
          "metadata": {}
        }
      ]
    },
    {
      "cell_type": "code",
      "source": [
        "general_marital_statu = []\n",
        "single = 0\n",
        "non_single = 0\n",
        "\n",
        "single_part = ['Single', 'Widowed', 'Divorced']\n",
        "non_single_part = ['Married', 'In a relationship']\n",
        "for i in df['marital_status']:\n",
        "  if i in single_part:\n",
        "    single += 1\n",
        "    general_marital_statu.append('Single')\n",
        "  else:\n",
        "    general_marital_statu.append('Has a Partner')\n",
        "\n",
        "\n",
        "df['general_marital_status'] = general_marital_statu"
      ],
      "metadata": {
        "id": "GXCSIJQRUzAR"
      },
      "execution_count": 153,
      "outputs": []
    },
    {
      "cell_type": "code",
      "source": [
        "maritalstatu_and_quitsmoke = df.groupby('general_marital_status')['attempts_to_quit_smoking'].sum().reset_index()"
      ],
      "metadata": {
        "id": "u6vaVOWgXyHf"
      },
      "execution_count": 154,
      "outputs": []
    },
    {
      "cell_type": "code",
      "source": [
        "plt.xlabel('Marital Statu')\n",
        "plt.ylabel('Total Attemps to Quit Smoking')\n",
        "sns.barplot(data = maritalstatu_and_quitsmoke, x = 'general_marital_status', y = 'attempts_to_quit_smoking', color = 'b')"
      ],
      "metadata": {
        "colab": {
          "base_uri": "https://localhost:8080/",
          "height": 470
        },
        "id": "r7cq9zdIYEmg",
        "outputId": "7b43606f-95be-41ff-c53c-398fdfd8c395"
      },
      "execution_count": 155,
      "outputs": [
        {
          "output_type": "execute_result",
          "data": {
            "text/plain": [
              "<Axes: xlabel='Marital Statu', ylabel='Total Attemps to Quit Smoking'>"
            ]
          },
          "metadata": {},
          "execution_count": 155
        },
        {
          "output_type": "display_data",
          "data": {
            "text/plain": [
              "<Figure size 640x480 with 1 Axes>"
            ],
            "image/png": "[encoded data removed]"
          },
          "metadata": {}
        }
      ]
    },
    {
      "cell_type": "code",
      "source": [
        "marritalstatu_and_quitdrink = df.groupby('general_marital_status')['attempts_to_quit_drinking'].sum().reset_index()"
      ],
      "metadata": {
        "id": "12aHFtqKYMef"
      },
      "execution_count": 156,
      "outputs": []
    },
    {
      "cell_type": "code",
      "source": [
        "plt.ylabel('Total Atemps to Quit Drinking')\n",
        "plt.xlabel('Marital Statu')\n",
        "sns.barplot(data = marritalstatu_and_quitdrink, x = 'general_marital_status', y = 'attempts_to_quit_drinking', color = 'y')"
      ],
      "metadata": {
        "colab": {
          "base_uri": "https://localhost:8080/",
          "height": 470
        },
        "id": "w3TE_1ppcYKx",
        "outputId": "0163daf1-d2ec-4c75-ef0f-b03c52b5301c"
      },
      "execution_count": 157,
      "outputs": [
        {
          "output_type": "execute_result",
          "data": {
            "text/plain": [
              "<Axes: xlabel='Marital Statu', ylabel='Total Atemps to Quit Drinking'>"
            ]
          },
          "metadata": {},
          "execution_count": 157
        },
        {
          "output_type": "display_data",
          "data": {
            "text/plain": [
              "<Figure size 640x480 with 1 Axes>"
            ],
            "image/png": "[encoded data removed]"
          },
          "metadata": {}
        }
      ]
    },
    {
      "cell_type": "markdown",
      "source": [
        "Both statistics says that single people tried to quit a bad habit more than people who are in a relationship."
      ],
      "metadata": {
        "id": "hRZZyAAvmAOk"
      }
    },
    {
      "cell_type": "markdown",
      "source": [
        "- Drinking & BMI"
      ],
      "metadata": {
        "id": "ESYP1f7FIwp1"
      }
    },
    {
      "cell_type": "code",
      "source": [
        "plt.ylabel('BMI')\n",
        "plt.xlabel('Drinks per Week')\n",
        "bmi_median = np.median(df['bmi'])\n",
        "plt.text(-1, 25, bmi_median, fontsize = 9, color = 'red')\n",
        "plt.hlines(y=bmi_median, xmin=df['drinks_per_week'].min(), xmax=df['drinks_per_week'].max(),\n",
        "           colors='red', linestyles='dashed', linewidth=1.5)\n",
        "\n",
        "sns.lineplot(data = df, x = 'drinks_per_week', y = 'bmi', color = 'g', ci = False)"
      ],
      "metadata": {
        "colab": {
          "base_uri": "https://localhost:8080/",
          "height": 470
        },
        "id": "FS-VAmXyIqjN",
        "outputId": "0a5a0216-b08a-493e-d19b-88b645418ab9"
      },
      "execution_count": 158,
      "outputs": [
        {
          "output_type": "execute_result",
          "data": {
            "text/plain": [
              "<Axes: xlabel='Drinks per Week', ylabel='BMI'>"
            ]
          },
          "metadata": {},
          "execution_count": 158
        },
        {
          "output_type": "display_data",
          "data": {
            "text/plain": [
              "<Figure size 640x480 with 1 Axes>"
            ],
            "image/png": "[encoded data removed]"
          },
          "metadata": {}
        }
      ]
    },
    {
      "cell_type": "markdown",
      "source": [
        "People who drinks 12 times per week has the highest BMI. It can be outlier."
      ],
      "metadata": {
        "id": "7_PQLBHaKtvT"
      }
    },
    {
      "cell_type": "code",
      "source": [
        "df[(df['bmi'] > 28) & (df['drinks_per_week'] == 12)]"
      ],
      "metadata": {
        "colab": {
          "base_uri": "https://localhost:8080/",
          "height": 193
        },
        "id": "MKLrV7GzI9s9",
        "outputId": "938e5c83-8f2b-478d-cc6e-60927df9757f"
      },
      "execution_count": 159,
      "outputs": [
        {
          "output_type": "execute_result",
          "data": {
            "text/plain": [
              "      age  gender education_level employment_status  annual_income_usd  \\\n",
              "1563   62  Female    Postgraduate           Student              57135   \n",
              "2629   49  Female     High School     Self-Employed             175986   \n",
              "2762   31  Female       Secondary           Retired              89656   \n",
              "\n",
              "     marital_status  children_count  smokes_per_day  drinks_per_week  \\\n",
              "1563        Widowed               5               5               12   \n",
              "2629       Divorced               5              11               12   \n",
              "2762        Widowed               0              14               12   \n",
              "\n",
              "      age_started_smoking  ...  has_health_issues  mental_health_status  \\\n",
              "1563                   28  ...               True                  Good   \n",
              "2629                   25  ...              False               Average   \n",
              "2762                   26  ...              False               Average   \n",
              "\n",
              "      exercise_frequency  diet_quality sleep_hours   bmi social_support  \\\n",
              "1563               Never       Average         4.7  32.3         Strong   \n",
              "2629               Daily       Average         6.8  38.4        No data   \n",
              "2762              Weekly       Average         8.9  32.1           Weak   \n",
              "\n",
              "      therapy_history  income_type general_marital_status  \n",
              "1563               No     50k-100k                 Single  \n",
              "2629          Current        +150k                 Single  \n",
              "2762          Current     50k-100k                 Single  \n",
              "\n",
              "[3 rows x 23 columns]"
            ],
            "text/html": [
              "\n",
              "  <div id=\"df-92577ce2-5189-4e93-9982-ca52aad79c82\" class=\"colab-df-container\">\n",
              "    <div>\n",
              "<style scoped>\n",
              "    .dataframe tbody tr th:only-of-type {\n",
              "        vertical-align: middle;\n",
              "    }\n",
              "\n",
              "    .dataframe tbody tr th {\n",
              "        vertical-align: top;\n",
              "    }\n",
              "\n",
              "    .dataframe thead th {\n",
              "        text-align: right;\n",
              "    }\n",
              "</style>\n",
              "<table border=\"1\" class=\"dataframe\">\n",
              "  <thead>\n",
              "    <tr style=\"text-align: right;\">\n",
              "      <th></th>\n",
              "      <th>age</th>\n",
              "      <th>gender</th>\n",
              "      <th>education_level</th>\n",
              "      <th>employment_status</th>\n",
              "      <th>annual_income_usd</th>\n",
              "      <th>marital_status</th>\n",
              "      <th>children_count</th>\n",
              "      <th>smokes_per_day</th>\n",
              "      <th>drinks_per_week</th>\n",
              "      <th>age_started_smoking</th>\n",
              "      <th>...</th>\n",
              "      <th>has_health_issues</th>\n",
              "      <th>mental_health_status</th>\n",
              "      <th>exercise_frequency</th>\n",
              "      <th>diet_quality</th>\n",
              "      <th>sleep_hours</th>\n",
              "      <th>bmi</th>\n",
              "      <th>social_support</th>\n",
              "      <th>therapy_history</th>\n",
              "      <th>income_type</th>\n",
              "      <th>general_marital_status</th>\n",
              "    </tr>\n",
              "  </thead>\n",
              "  <tbody>\n",
              "    <tr>\n",
              "      <th>1563</th>\n",
              "      <td>62</td>\n",
              "      <td>Female</td>\n",
              "      <td>Postgraduate</td>\n",
              "      <td>Student</td>\n",
              "      <td>57135</td>\n",
              "      <td>Widowed</td>\n",
              "      <td>5</td>\n",
              "      <td>5</td>\n",
              "      <td>12</td>\n",
              "      <td>28</td>\n",
              "      <td>...</td>\n",
              "      <td>True</td>\n",
              "      <td>Good</td>\n",
              "      <td>Never</td>\n",
              "      <td>Average</td>\n",
              "      <td>4.7</td>\n",
              "      <td>32.3</td>\n",
              "      <td>Strong</td>\n",
              "      <td>No</td>\n",
              "      <td>50k-100k</td>\n",
              "      <td>Single</td>\n",
              "    </tr>\n",
              "    <tr>\n",
              "      <th>2629</th>\n",
              "      <td>49</td>\n",
              "      <td>Female</td>\n",
              "      <td>High School</td>\n",
              "      <td>Self-Employed</td>\n",
              "      <td>175986</td>\n",
              "      <td>Divorced</td>\n",
              "      <td>5</td>\n",
              "      <td>11</td>\n",
              "      <td>12</td>\n",
              "      <td>25</td>\n",
              "      <td>...</td>\n",
              "      <td>False</td>\n",
              "      <td>Average</td>\n",
              "      <td>Daily</td>\n",
              "      <td>Average</td>\n",
              "      <td>6.8</td>\n",
              "      <td>38.4</td>\n",
              "      <td>No data</td>\n",
              "      <td>Current</td>\n",
              "      <td>+150k</td>\n",
              "      <td>Single</td>\n",
              "    </tr>\n",
              "    <tr>\n",
              "      <th>2762</th>\n",
              "      <td>31</td>\n",
              "      <td>Female</td>\n",
              "      <td>Secondary</td>\n",
              "      <td>Retired</td>\n",
              "      <td>89656</td>\n",
              "      <td>Widowed</td>\n",
              "      <td>0</td>\n",
              "      <td>14</td>\n",
              "      <td>12</td>\n",
              "      <td>26</td>\n",
              "      <td>...</td>\n",
              "      <td>False</td>\n",
              "      <td>Average</td>\n",
              "      <td>Weekly</td>\n",
              "      <td>Average</td>\n",
              "      <td>8.9</td>\n",
              "      <td>32.1</td>\n",
              "      <td>Weak</td>\n",
              "      <td>Current</td>\n",
              "      <td>50k-100k</td>\n",
              "      <td>Single</td>\n",
              "    </tr>\n",
              "  </tbody>\n",
              "</table>\n",
              "<p>3 rows × 23 columns</p>\n",
              "</div>\n",
              "    <div class=\"colab-df-buttons\">\n",
              "\n",
              "  <div class=\"colab-df-container\">\n",
              "    <button class=\"colab-df-convert\" onclick=\"convertToInteractive('df-92577ce2-5189-4e93-9982-ca52aad79c82')\"\n",
              "            title=\"Convert this dataframe to an interactive table.\"\n",
              "            style=\"display:none;\">\n",
              "\n",
              "  <svg xmlns=\"http://www.w3.org/2000/svg\" height=\"24px\" viewBox=\"0 -960 960 960\">\n",
              "    <path d=\"M120-120v-720h720v720H120Zm60-500h600v-160H180v160Zm220 220h160v-160H400v160Zm0 220h160v-160H400v160ZM180-400h160v-160H180v160Zm440 0h160v-160H620v160ZM180-180h160v-160H180v160Zm440 0h160v-160H620v160Z\"/>\n",
              "  </svg>\n",
              "    </button>\n",
              "\n",
              "  <style>\n",
              "    .colab-df-container {\n",
              "      display:flex;\n",
              "      gap: 12px;\n",
              "    }\n",
              "\n",
              "    .colab-df-convert {\n",
              "      background-color: #E8F0FE;\n",
              "      border: none;\n",
              "      border-radius: 50%;\n",
              "      cursor: pointer;\n",
              "      display: none;\n",
              "      fill: #1967D2;\n",
              "      height: 32px;\n",
              "      padding: 0 0 0 0;\n",
              "      width: 32px;\n",
              "    }\n",
              "\n",
              "    .colab-df-convert:hover {\n",
              "      background-color: #E2EBFA;\n",
              "      box-shadow: 0px 1px 2px rgba(60, 64, 67, 0.3), 0px 1px 3px 1px rgba(60, 64, 67, 0.15);\n",
              "      fill: #174EA6;\n",
              "    }\n",
              "\n",
              "    .colab-df-buttons div {\n",
              "      margin-bottom: 4px;\n",
              "    }\n",
              "\n",
              "    [theme=dark] .colab-df-convert {\n",
              "      background-color: #3B4455;\n",
              "      fill: #D2E3FC;\n",
              "    }\n",
              "\n",
              "    [theme=dark] .colab-df-convert:hover {\n",
              "      background-color: #434B5C;\n",
              "      box-shadow: 0px 1px 3px 1px rgba(0, 0, 0, 0.15);\n",
              "      filter: drop-shadow(0px 1px 2px rgba(0, 0, 0, 0.3));\n",
              "      fill: #FFFFFF;\n",
              "    }\n",
              "  </style>\n",
              "\n",
              "    <script>\n",
              "      const buttonEl =\n",
              "        document.querySelector('#df-92577ce2-5189-4e93-9982-ca52aad79c82 button.colab-df-convert');\n",
              "      buttonEl.style.display =\n",
              "        google.colab.kernel.accessAllowed ? 'block' : 'none';\n",
              "\n",
              "      async function convertToInteractive(key) {\n",
              "        const element = document.querySelector('#df-92577ce2-5189-4e93-9982-ca52aad79c82');\n",
              "        const dataTable =\n",
              "          await google.colab.kernel.invokeFunction('convertToInteractive',\n",
              "                                                    [key], {});\n",
              "        if (!dataTable) return;\n",
              "\n",
              "        const docLinkHtml = 'Like what you see? Visit the ' +\n",
              "          '<a target=\"_blank\" href=https://colab.research.google.com/notebooks/data_table.ipynb>data table notebook</a>'\n",
              "          + ' to learn more about interactive tables.';\n",
              "        element.innerHTML = '';\n",
              "        dataTable['output_type'] = 'display_data';\n",
              "        await google.colab.output.renderOutput(dataTable, element);\n",
              "        const docLink = document.createElement('div');\n",
              "        docLink.innerHTML = docLinkHtml;\n",
              "        element.appendChild(docLink);\n",
              "      }\n",
              "    </script>\n",
              "  </div>\n",
              "\n",
              "\n",
              "    <div id=\"df-5d2a84ae-4886-427f-bece-d25eaff30ea6\">\n",
              "      <button class=\"colab-df-quickchart\" onclick=\"quickchart('df-5d2a84ae-4886-427f-bece-d25eaff30ea6')\"\n",
              "                title=\"Suggest charts\"\n",
              "                style=\"display:none;\">\n",
              "\n",
              "<svg xmlns=\"http://www.w3.org/2000/svg\" height=\"24px\"viewBox=\"0 0 24 24\"\n",
              "     width=\"24px\">\n",
              "    <g>\n",
              "        <path d=\"M19 3H5c-1.1 0-2 .9-2 2v14c0 1.1.9 2 2 2h14c1.1 0 2-.9 2-2V5c0-1.1-.9-2-2-2zM9 17H7v-7h2v7zm4 0h-2V7h2v10zm4 0h-2v-4h2v4z\"/>\n",
              "    </g>\n",
              "</svg>\n",
              "      </button>\n",
              "\n",
              "<style>\n",
              "  .colab-df-quickchart {\n",
              "      --bg-color: #E8F0FE;\n",
              "      --fill-color: #1967D2;\n",
              "      --hover-bg-color: #E2EBFA;\n",
              "      --hover-fill-color: #174EA6;\n",
              "      --disabled-fill-color: #AAA;\n",
              "      --disabled-bg-color: #DDD;\n",
              "  }\n",
              "\n",
              "  [theme=dark] .colab-df-quickchart {\n",
              "      --bg-color: #3B4455;\n",
              "      --fill-color: #D2E3FC;\n",
              "      --hover-bg-color: #434B5C;\n",
              "      --hover-fill-color: #FFFFFF;\n",
              "      --disabled-bg-color: #3B4455;\n",
              "      --disabled-fill-color: #666;\n",
              "  }\n",
              "\n",
              "  .colab-df-quickchart {\n",
              "    background-color: var(--bg-color);\n",
              "    border: none;\n",
              "    border-radius: 50%;\n",
              "    cursor: pointer;\n",
              "    display: none;\n",
              "    fill: var(--fill-color);\n",
              "    height: 32px;\n",
              "    padding: 0;\n",
              "    width: 32px;\n",
              "  }\n",
              "\n",
              "  .colab-df-quickchart:hover {\n",
              "    background-color: var(--hover-bg-color);\n",
              "    box-shadow: 0 1px 2px rgba(60, 64, 67, 0.3), 0 1px 3px 1px rgba(60, 64, 67, 0.15);\n",
              "    fill: var(--button-hover-fill-color);\n",
              "  }\n",
              "\n",
              "  .colab-df-quickchart-complete:disabled,\n",
              "  .colab-df-quickchart-complete:disabled:hover {\n",
              "    background-color: var(--disabled-bg-color);\n",
              "    fill: var(--disabled-fill-color);\n",
              "    box-shadow: none;\n",
              "  }\n",
              "\n",
              "  .colab-df-spinner {\n",
              "    border: 2px solid var(--fill-color);\n",
              "    border-color: transparent;\n",
              "    border-bottom-color: var(--fill-color);\n",
              "    animation:\n",
              "      spin 1s steps(1) infinite;\n",
              "  }\n",
              "\n",
              "  @keyframes spin {\n",
              "    0% {\n",
              "      border-color: transparent;\n",
              "      border-bottom-color: var(--fill-color);\n",
              "      border-left-color: var(--fill-color);\n",
              "    }\n",
              "    20% {\n",
              "      border-color: transparent;\n",
              "      border-left-color: var(--fill-color);\n",
              "      border-top-color: var(--fill-color);\n",
              "    }\n",
              "    30% {\n",
              "      border-color: transparent;\n",
              "      border-left-color: var(--fill-color);\n",
              "      border-top-color: var(--fill-color);\n",
              "      border-right-color: var(--fill-color);\n",
              "    }\n",
              "    40% {\n",
              "      border-color: transparent;\n",
              "      border-right-color: var(--fill-color);\n",
              "      border-top-color: var(--fill-color);\n",
              "    }\n",
              "    60% {\n",
              "      border-color: transparent;\n",
              "      border-right-color: var(--fill-color);\n",
              "    }\n",
              "    80% {\n",
              "      border-color: transparent;\n",
              "      border-right-color: var(--fill-color);\n",
              "      border-bottom-color: var(--fill-color);\n",
              "    }\n",
              "    90% {\n",
              "      border-color: transparent;\n",
              "      border-bottom-color: var(--fill-color);\n",
              "    }\n",
              "  }\n",
              "</style>\n",
              "\n",
              "      <script>\n",
              "        async function quickchart(key) {\n",
              "          const quickchartButtonEl =\n",
              "            document.querySelector('#' + key + ' button');\n",
              "          quickchartButtonEl.disabled = true;  // To prevent multiple clicks.\n",
              "          quickchartButtonEl.classList.add('colab-df-spinner');\n",
              "          try {\n",
              "            const charts = await google.colab.kernel.invokeFunction(\n",
              "                'suggestCharts', [key], {});\n",
              "          } catch (error) {\n",
              "            console.error('Error during call to suggestCharts:', error);\n",
              "          }\n",
              "          quickchartButtonEl.classList.remove('colab-df-spinner');\n",
              "          quickchartButtonEl.classList.add('colab-df-quickchart-complete');\n",
              "        }\n",
              "        (() => {\n",
              "          let quickchartButtonEl =\n",
              "            document.querySelector('#df-5d2a84ae-4886-427f-bece-d25eaff30ea6 button');\n",
              "          quickchartButtonEl.style.display =\n",
              "            google.colab.kernel.accessAllowed ? 'block' : 'none';\n",
              "        })();\n",
              "      </script>\n",
              "    </div>\n",
              "\n",
              "    </div>\n",
              "  </div>\n"
            ],
            "application/vnd.google.colaboratory.intrinsic+json": {
              "type": "dataframe"
            }
          },
          "metadata": {},
          "execution_count": 159
        }
      ]
    },
    {
      "cell_type": "markdown",
      "source": [
        "Only 3 people increases this average. That's why we can say that drinking alcohol does not have evident effect on BMI."
      ],
      "metadata": {
        "id": "RG8j-0cyM18j"
      }
    },
    {
      "cell_type": "markdown",
      "source": [
        "- Distributions of drinking and smoking due to genders"
      ],
      "metadata": {
        "id": "XHYlSqnbNeWS"
      }
    },
    {
      "cell_type": "code",
      "source": [
        "sns.violinplot(data = df, x = 'gender', y = 'drinks_per_week')"
      ],
      "metadata": {
        "colab": {
          "base_uri": "https://localhost:8080/",
          "height": 470
        },
        "id": "8T2-Y64mNlKj",
        "outputId": "d6ba44c2-1072-4742-b590-959128d49fc6"
      },
      "execution_count": 160,
      "outputs": [
        {
          "output_type": "execute_result",
          "data": {
            "text/plain": [
              "<Axes: xlabel='gender', ylabel='drinks_per_week'>"
            ]
          },
          "metadata": {},
          "execution_count": 160
        },
        {
          "output_type": "display_data",
          "data": {
            "text/plain": [
              "<Figure size 640x480 with 1 Axes>"
            ],
            "image/png": "[encoded data removed]"
          },
          "metadata": {}
        }
      ]
    },
    {
      "cell_type": "code",
      "source": [
        "sns.boxplot(data = df, x = 'gender', y = 'smokes_per_day')"
      ],
      "metadata": {
        "colab": {
          "base_uri": "https://localhost:8080/",
          "height": 470
        },
        "id": "uph4CSNANtlU",
        "outputId": "093eafc3-e6b3-4f76-ee70-33e6001176ce"
      },
      "execution_count": 161,
      "outputs": [
        {
          "output_type": "execute_result",
          "data": {
            "text/plain": [
              "<Axes: xlabel='gender', ylabel='smokes_per_day'>"
            ]
          },
          "metadata": {},
          "execution_count": 161
        },
        {
          "output_type": "display_data",
          "data": {
            "text/plain": [
              "<Figure size 640x480 with 1 Axes>"
            ],
            "image/png": "[encoded data removed]"
          },
          "metadata": {}
        }
      ]
    },
    {
      "cell_type": "markdown",
      "source": [
        "- Children Count & Smoker per Day"
      ],
      "metadata": {
        "id": "-HfE6XoOYoZF"
      }
    },
    {
      "cell_type": "code",
      "source": [
        "sns.lineplot(data = df, x = 'children_count', y = 'smokes_per_day', ci = False)"
      ],
      "metadata": {
        "colab": {
          "base_uri": "https://localhost:8080/",
          "height": 471
        },
        "id": "I2HvgTWwN8EG",
        "outputId": "534152ae-ea97-4d35-e44c-0fded1ea9612"
      },
      "execution_count": 163,
      "outputs": [
        {
          "output_type": "execute_result",
          "data": {
            "text/plain": [
              "<Axes: xlabel='children_count', ylabel='smokes_per_day'>"
            ]
          },
          "metadata": {},
          "execution_count": 163
        },
        {
          "output_type": "display_data",
          "data": {
            "text/plain": [
              "<Figure size 640x480 with 1 Axes>"
            ],
            "image/png": "[encoded data removed]"
          },
          "metadata": {}
        }
      ]
    },
    {
      "cell_type": "markdown",
      "source": [
        "Statistics shows that people who has 5 children smokes less"
      ],
      "metadata": {
        "id": "oUegRTlOPSHq"
      }
    },
    {
      "cell_type": "markdown",
      "source": [
        "- Employment Status & Drinking"
      ],
      "metadata": {
        "id": "kqtdX6TXSJ_N"
      }
    },
    {
      "cell_type": "code",
      "source": [
        "df['employment_status'].unique()"
      ],
      "metadata": {
        "colab": {
          "base_uri": "https://localhost:8080/"
        },
        "id": "9qzwECSQQsOH",
        "outputId": "c63d31f4-f0f1-4e4c-a2da-1e097f5f8577"
      },
      "execution_count": 164,
      "outputs": [
        {
          "output_type": "execute_result",
          "data": {
            "text/plain": [
              "array(['Student', 'Self-Employed', 'Unemployed', 'Employed', 'Retired'],\n",
              "      dtype=object)"
            ]
          },
          "metadata": {},
          "execution_count": 164
        }
      ]
    },
    {
      "cell_type": "code",
      "source": [
        "plt.ylabel('Drinks per Week')\n",
        "plt.xlabel('Employment Status')\n",
        "plt.xticks(rotation = 30)\n",
        "sns.boxplot(data = df, x = 'employment_status', y = 'drinks_per_week', color = 'g')"
      ],
      "metadata": {
        "colab": {
          "base_uri": "https://localhost:8080/",
          "height": 518
        },
        "id": "Im1bZzxWQwrl",
        "outputId": "dc8b6a87-d623-4844-abec-7673f6f80d8c"
      },
      "execution_count": 165,
      "outputs": [
        {
          "output_type": "execute_result",
          "data": {
            "text/plain": [
              "<Axes: xlabel='Employment Status', ylabel='Drinks per Week'>"
            ]
          },
          "metadata": {},
          "execution_count": 165
        },
        {
          "output_type": "display_data",
          "data": {
            "text/plain": [
              "<Figure size 640x480 with 1 Axes>"
            ],
            "image/png": "[encoded data removed]"
          },
          "metadata": {}
        }
      ]
    },
    {
      "cell_type": "markdown",
      "source": [
        "Students are tend to drink alcohol more. It can be causes due to friends environment or trying new things.\n",
        "\n",
        "Also retired people drinks so much too. It can be causes boredom and loneliness"
      ],
      "metadata": {
        "id": "oXSNZxLNRVD6"
      }
    },
    {
      "cell_type": "markdown",
      "source": [
        "- Sleep Hours & Mental Health"
      ],
      "metadata": {
        "id": "qysM2ktoSIpd"
      }
    },
    {
      "cell_type": "code",
      "source": [
        "plt.xlabel('Mental Health')\n",
        "plt.ylabel('Sleep Hours')\n",
        "plt.xticks(rotation = 45)\n",
        "sns.violinplot(data = df, x = 'mental_health_status', y = 'sleep_hours', color = 'black')"
      ],
      "metadata": {
        "colab": {
          "base_uri": "https://localhost:8080/",
          "height": 512
        },
        "id": "Xc7SxWHtS-JJ",
        "outputId": "23c740e5-2cf7-42fc-fcab-e04556921e99"
      },
      "execution_count": 167,
      "outputs": [
        {
          "output_type": "execute_result",
          "data": {
            "text/plain": [
              "<Axes: xlabel='Mental Health', ylabel='Sleep Hours'>"
            ]
          },
          "metadata": {},
          "execution_count": 167
        },
        {
          "output_type": "display_data",
          "data": {
            "text/plain": [
              "<Figure size 640x480 with 1 Axes>"
            ],
            "image/png": "[encoded data removed]"
          },
          "metadata": {}
        }
      ]
    },
    {
      "cell_type": "markdown",
      "source": [
        "As expected, people who sleeps well have better mental health"
      ],
      "metadata": {
        "id": "Xsf_d-O6TkdP"
      }
    },
    {
      "cell_type": "markdown",
      "source": [
        "- Mental Health & Income"
      ],
      "metadata": {
        "id": "v6ksM4wuTt1l"
      }
    },
    {
      "cell_type": "code",
      "source": [
        "plt.xlabel('Mental Health')\n",
        "plt.ylabel('Exercise Frequency')\n",
        "sns.boxplot(data = df, x = 'mental_health_status', y = 'exercise_frequency')"
      ],
      "metadata": {
        "colab": {
          "base_uri": "https://localhost:8080/",
          "height": 470
        },
        "id": "1LoFZOPATyKi",
        "outputId": "6a108378-4ffd-4026-e832-1a5abaf88ac8"
      },
      "execution_count": 168,
      "outputs": [
        {
          "output_type": "execute_result",
          "data": {
            "text/plain": [
              "<Axes: xlabel='Mental Health', ylabel='Exercise Frequency'>"
            ]
          },
          "metadata": {},
          "execution_count": 168
        },
        {
          "output_type": "display_data",
          "data": {
            "text/plain": [
              "<Figure size 640x480 with 1 Axes>"
            ],
            "image/png": "[encoded data removed]"
          },
          "metadata": {}
        }
      ]
    },
    {
      "cell_type": "markdown",
      "source": [
        "Average exercise frequency of people who has good mental health is higher."
      ],
      "metadata": {
        "id": "wkXLiMTDVPtU"
      }
    }
  ]
}